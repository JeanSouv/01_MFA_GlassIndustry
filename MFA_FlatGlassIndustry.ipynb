{
 "cells": [
  {
   "cell_type": "code",
   "execution_count": 1,
   "metadata": {
    "colab": {},
    "colab_type": "code",
    "id": "GukJ0-ujryTQ"
   },
   "outputs": [],
   "source": [
    "import os\n",
    "import re\n",
    "\n",
    "import pathlib\n",
    "from pathlib import Path\n",
    "\n",
    "import sqlite3\n",
    "\n",
    "import pandas as pd\n",
    "import numpy as np\n",
    "\n",
    "from scipy import stats\n",
    "\n",
    "import matplotlib as mpl\n",
    "import matplotlib.pyplot as plt\n",
    "\n",
    "import seaborn as sns"
   ]
  },
  {
   "cell_type": "code",
   "execution_count": 2,
   "metadata": {},
   "outputs": [],
   "source": [
    "# Helper (support)\n",
    "from support import input_helper"
   ]
  },
  {
   "cell_type": "code",
   "execution_count": 3,
   "metadata": {},
   "outputs": [],
   "source": [
    "mpl.rcParams['figure.figsize'] = (16, 9)"
   ]
  },
  {
   "cell_type": "code",
   "execution_count": 4,
   "metadata": {},
   "outputs": [],
   "source": [
    "ROOT_DIR = \"RawData\""
   ]
  },
  {
   "cell_type": "code",
   "execution_count": 5,
   "metadata": {},
   "outputs": [],
   "source": [
    "sns.set_style(\"ticks\")\n",
    "sns.color_palette(\"colorblind\")\n",
    "sns.set_context(\"notebook\", font_scale=1)"
   ]
  },
  {
   "cell_type": "code",
   "execution_count": 6,
   "metadata": {},
   "outputs": [],
   "source": [
    "pd.set_option('precision', 2)"
   ]
  },
  {
   "cell_type": "markdown",
   "metadata": {},
   "source": [
    "* BE = Belgium\n",
    "* FR = France\n",
    "* EU = Europe\n",
    "* FG = Flat Glass\n",
    "* ArchFG = Architectural Flat Glass"
   ]
  },
  {
   "cell_type": "markdown",
   "metadata": {},
   "source": [
    "# Upload Datasets"
   ]
  },
  {
   "cell_type": "code",
   "execution_count": 7,
   "metadata": {},
   "outputs": [],
   "source": [
    "BE_data = input_helper.get_data('BE_RawData_VPython.xlsx', directory=ROOT_DIR)\n",
    "FR_data = input_helper.get_data('FR_RawData_VPython.xlsx', directory=ROOT_DIR)\n",
    "EU_data = input_helper.get_data('EU_RawData_VPython.xlsx', directory=ROOT_DIR)"
   ]
  },
  {
   "cell_type": "code",
   "execution_count": 8,
   "metadata": {},
   "outputs": [
    {
     "name": "stdout",
     "output_type": "stream",
     "text": [
      "BE_data, sheet names = \n",
      " ['stock', 'consumption', 'prod', 'import', 'export', 'workforce', 'FlatGlassInd_GlassInd', 'RawMat_GlassInd_ABS', 'Population']\n",
      "\n",
      "FR_data, sheet names = \n",
      " ['stock', 'consumption', 'prod', 'import', 'export', 'Population', 'workforce', 'RawMat_Intensity', 'Energy_Intensity', 'RawMat_FlatGlass_ABS', 'emissions']\n",
      "\n",
      "EU_data, sheet names = \n",
      " ['stock', 'consumption', 'prod', 'import', 'export', 'workforce', 'EnergyUse', 'pollution', 'production costs']\n",
      "\n"
     ]
    }
   ],
   "source": [
    "print(\"BE_data, sheet names = \\n {}\\n\".format(BE_data.sheet_names))\n",
    "print(\"FR_data, sheet names = \\n {}\\n\".format(FR_data.sheet_names))\n",
    "print(\"EU_data, sheet names = \\n {}\\n\".format(EU_data.sheet_names))"
   ]
  },
  {
   "cell_type": "markdown",
   "metadata": {},
   "source": [
    "# Flat Glass Production in Europe"
   ]
  },
  {
   "cell_type": "markdown",
   "metadata": {},
   "source": [
    "## Creating a Dataframe for Flat Glass Flows"
   ]
  },
  {
   "cell_type": "code",
   "execution_count": 9,
   "metadata": {},
   "outputs": [],
   "source": [
    "# Data relating to flat glass production\n",
    "EU_Prod = EU_data.parse('prod').set_index(['Nbr of countries', 'year'])"
   ]
  },
  {
   "cell_type": "code",
   "execution_count": 10,
   "metadata": {},
   "outputs": [],
   "source": [
    "# Adding import and export flows\n",
    "EU_Imp = EU_data.parse('import').set_index(['Nbr of countries', 'year'])\n",
    "EU_Exp = EU_data.parse('export').set_index(['Nbr of countries', 'year'])"
   ]
  },
  {
   "cell_type": "code",
   "execution_count": 11,
   "metadata": {},
   "outputs": [],
   "source": [
    "# Creating a single dataframe for flat glass flows in Europe\n",
    "\n",
    "EU = pd.concat([EU_Prod['flat glass, kt'],\n",
    "                EU_Imp['flat glass, kt'],\n",
    "                EU_Exp['flat glass, kt']],\n",
    "                  axis=1, keys=[('Production [kt]'),\n",
    "                                ('Import [kt]'),\n",
    "                                ('Export [kt]')],\n",
    "                  names=['Flow']).stack(dropna=False)\n",
    "\n",
    "EU = EU.unstack()"
   ]
  },
  {
   "cell_type": "code",
   "execution_count": 12,
   "metadata": {},
   "outputs": [
    {
     "data": {
      "text/html": [
       "<div>\n",
       "<style scoped>\n",
       "    .dataframe tbody tr th:only-of-type {\n",
       "        vertical-align: middle;\n",
       "    }\n",
       "\n",
       "    .dataframe tbody tr th {\n",
       "        vertical-align: top;\n",
       "    }\n",
       "\n",
       "    .dataframe thead th {\n",
       "        text-align: right;\n",
       "    }\n",
       "</style>\n",
       "<table border=\"1\" class=\"dataframe\">\n",
       "  <thead>\n",
       "    <tr style=\"text-align: right;\">\n",
       "      <th></th>\n",
       "      <th>Flow</th>\n",
       "      <th>Production [kt]</th>\n",
       "      <th>Import [kt]</th>\n",
       "      <th>Export [kt]</th>\n",
       "    </tr>\n",
       "    <tr>\n",
       "      <th>Nbr of countries</th>\n",
       "      <th>year</th>\n",
       "      <th></th>\n",
       "      <th></th>\n",
       "      <th></th>\n",
       "    </tr>\n",
       "  </thead>\n",
       "  <tbody>\n",
       "    <tr>\n",
       "      <th rowspan=\"5\" valign=\"top\">6</th>\n",
       "      <th>1945</th>\n",
       "      <td>NaN</td>\n",
       "      <td>NaN</td>\n",
       "      <td>NaN</td>\n",
       "    </tr>\n",
       "    <tr>\n",
       "      <th>1946</th>\n",
       "      <td>NaN</td>\n",
       "      <td>NaN</td>\n",
       "      <td>NaN</td>\n",
       "    </tr>\n",
       "    <tr>\n",
       "      <th>1947</th>\n",
       "      <td>NaN</td>\n",
       "      <td>NaN</td>\n",
       "      <td>NaN</td>\n",
       "    </tr>\n",
       "    <tr>\n",
       "      <th>1948</th>\n",
       "      <td>NaN</td>\n",
       "      <td>NaN</td>\n",
       "      <td>NaN</td>\n",
       "    </tr>\n",
       "    <tr>\n",
       "      <th>1949</th>\n",
       "      <td>NaN</td>\n",
       "      <td>NaN</td>\n",
       "      <td>NaN</td>\n",
       "    </tr>\n",
       "    <tr>\n",
       "      <th>...</th>\n",
       "      <th>...</th>\n",
       "      <td>...</td>\n",
       "      <td>...</td>\n",
       "      <td>...</td>\n",
       "    </tr>\n",
       "    <tr>\n",
       "      <th rowspan=\"5\" valign=\"top\">28</th>\n",
       "      <th>2015</th>\n",
       "      <td>9641.0</td>\n",
       "      <td>1079.10</td>\n",
       "      <td>1187.54</td>\n",
       "    </tr>\n",
       "    <tr>\n",
       "      <th>2016</th>\n",
       "      <td>9835.0</td>\n",
       "      <td>1255.01</td>\n",
       "      <td>1192.21</td>\n",
       "    </tr>\n",
       "    <tr>\n",
       "      <th>2017</th>\n",
       "      <td>10665.0</td>\n",
       "      <td>1534.99</td>\n",
       "      <td>1158.69</td>\n",
       "    </tr>\n",
       "    <tr>\n",
       "      <th>2018</th>\n",
       "      <td>10643.0</td>\n",
       "      <td>1673.63</td>\n",
       "      <td>1178.92</td>\n",
       "    </tr>\n",
       "    <tr>\n",
       "      <th>2019</th>\n",
       "      <td>10840.0</td>\n",
       "      <td>NaN</td>\n",
       "      <td>NaN</td>\n",
       "    </tr>\n",
       "  </tbody>\n",
       "</table>\n",
       "<p>83 rows × 3 columns</p>\n",
       "</div>"
      ],
      "text/plain": [
       "Flow                   Production [kt]  Import [kt]  Export [kt]\n",
       "Nbr of countries year                                           \n",
       "6                1945              NaN          NaN          NaN\n",
       "                 1946              NaN          NaN          NaN\n",
       "                 1947              NaN          NaN          NaN\n",
       "                 1948              NaN          NaN          NaN\n",
       "                 1949              NaN          NaN          NaN\n",
       "...                                ...          ...          ...\n",
       "28               2015           9641.0      1079.10      1187.54\n",
       "                 2016           9835.0      1255.01      1192.21\n",
       "                 2017          10665.0      1534.99      1158.69\n",
       "                 2018          10643.0      1673.63      1178.92\n",
       "                 2019          10840.0          NaN          NaN\n",
       "\n",
       "[83 rows x 3 columns]"
      ]
     },
     "execution_count": 12,
     "metadata": {},
     "output_type": "execute_result"
    }
   ],
   "source": [
    "EU"
   ]
  },
  {
   "cell_type": "markdown",
   "metadata": {},
   "source": [
    "## Flat Glass Production"
   ]
  },
  {
   "cell_type": "code",
   "execution_count": 13,
   "metadata": {},
   "outputs": [
    {
     "data": {
      "image/png": "[encoded data removed]",
      "text/plain": [
       "<Figure size 1152x648 with 1 Axes>"
      ]
     },
     "metadata": {},
     "output_type": "display_data"
    }
   ],
   "source": [
    "# Plot the European production of flat glass\n",
    "\n",
    "EUplot = EU.reset_index()\n",
    "\n",
    "fig, ax = plt.subplots()\n",
    "\n",
    "sns.lineplot(data = EUplot, \n",
    "             x = 'year', y = 'Production [kt]',\n",
    "             hue = 'Nbr of countries', \n",
    "             palette = 'colorblind',\n",
    "             ax = ax)\n",
    "\n",
    "ax.set_xlim(1945,2020)\n",
    "ax.set_ylim(ymin=0)\n",
    "fig.suptitle('European production of flat glass [kt]', fontsize = 15)\n",
    "sns.despine()\n",
    "plt.show()"
   ]
  },
  {
   "cell_type": "markdown",
   "metadata": {},
   "source": [
    "## Flat Glass Consumption"
   ]
  },
  {
   "cell_type": "code",
   "execution_count": 14,
   "metadata": {},
   "outputs": [
    {
     "data": {
      "image/png": "[encoded data removed]",
      "text/plain": [
       "<Figure size 576x288 with 1 Axes>"
      ]
     },
     "metadata": {},
     "output_type": "display_data"
    }
   ],
   "source": [
    "# Estimating consumption in EU\n",
    "EU['Consumption [kt]'] = (EU['Production [kt]'] \n",
    "                          + EU['Import [kt]'] \n",
    "                          - EU['Export [kt]']\n",
    "                         )\n",
    "\n",
    "# Plotting the European consumption of flat glass\n",
    "\n",
    "EUplot = EU.reset_index()\n",
    "\n",
    "fig, ax = plt.subplots(figsize=(8,4))\n",
    "\n",
    "sns.lineplot(data = EUplot, \n",
    "             x = 'year', y = 'Consumption [kt]', \n",
    "             hue = 'Nbr of countries', \n",
    "             palette = 'colorblind',\n",
    "             ax = ax)\n",
    "\n",
    "ax.set_xlim(1945,2020)\n",
    "ax.set_ylim(0, 16000)\n",
    "\n",
    "fig.suptitle('European consumption of flat glass [kt]', fontsize = 15)\n",
    "sns.despine()\n",
    "plt.show()"
   ]
  },
  {
   "cell_type": "code",
   "execution_count": 15,
   "metadata": {},
   "outputs": [
    {
     "data": {
      "image/png": "[encoded data removed]",
      "text/plain": [
       "<Figure size 1152x648 with 4 Axes>"
      ]
     },
     "metadata": {},
     "output_type": "display_data"
    }
   ],
   "source": [
    "# Plotting import and export flows of flat glass\n",
    "\n",
    "data1 = ['Production', 'Consumption']\n",
    "data2 = ['Import', 'Export']\n",
    "\n",
    "fig, axes = plt.subplots(nrows=2, ncols=2,\n",
    "                         sharex=True, sharey=True,\n",
    "                         figsize=(16,9))\n",
    "\n",
    "for col, data in enumerate(data1):\n",
    "    ax=axes[0][col]\n",
    "    if col == 0:\n",
    "        ax.set_ylabel('Flat glass flows [kt]')\n",
    "    ax.set_title(data)\n",
    "    sns.lineplot(data=EUplot,\n",
    "                 x='year', y=f\"{data} [kt]\",\n",
    "                 hue = 'Nbr of countries', \n",
    "                 palette = 'colorblind',\n",
    "                 ax = ax)\n",
    "    \n",
    "for col, data in enumerate(data2):\n",
    "    ax=axes[1][col]\n",
    "    if col == 0:\n",
    "        ax.set_ylabel('Flat glass flows [kt]')\n",
    "    ax.set_title(data)\n",
    "    sns.lineplot(data=EUplot,\n",
    "                 x='year', y=f\"{data} [kt]\",\n",
    "                 hue = 'Nbr of countries', \n",
    "                 palette = 'colorblind',\n",
    "                 ax = ax)\n",
    "        \n",
    "ax.set_xlim(1945,2020)\n",
    "ax.set_ylim(ymin=0)\n",
    "\n",
    "fig.suptitle(\"Import and export of flat glass [kt]\")\n",
    "sns.despine()\n",
    "plt.show()"
   ]
  },
  {
   "cell_type": "markdown",
   "metadata": {},
   "source": [
    "## Architectural Flat Glass Production"
   ]
  },
  {
   "cell_type": "code",
   "execution_count": 52,
   "metadata": {},
   "outputs": [],
   "source": [
    "# Share of building glazing in the European production of flat glass\n",
    "EUBldgShare = EU_Prod[['bldg glass/flat glass, %']].copy()\n",
    "\n",
    "EUBldgShare = EUBldgShare.dropna()"
   ]
  },
  {
   "cell_type": "code",
   "execution_count": 53,
   "metadata": {},
   "outputs": [
    {
     "data": {
      "image/png": "[encoded data removed]",
      "text/plain": [
       "<Figure size 576x288 with 1 Axes>"
      ]
     },
     "metadata": {},
     "output_type": "display_data"
    }
   ],
   "source": [
    "toplot = EUBldgShare.reset_index()\n",
    "\n",
    "fig, ax = plt.subplots(figsize=(8,4))\n",
    "\n",
    "sns.lineplot(data=toplot, x='year', y='bldg glass/flat glass, %', \n",
    "             markers=\"o\", ax=ax)\n",
    "\n",
    "ax.lines[0].set_linestyle(\"--\")\n",
    "ax.set_xlim(1945,2020)\n",
    "ax.set_ylim(0,1)\n",
    "sns.despine()"
   ]
  },
  {
   "cell_type": "code",
   "execution_count": 54,
   "metadata": {},
   "outputs": [],
   "source": [
    "EUBldgShare = EUBldgShare.reset_index()\n",
    "\n",
    "x = np.array(list(EUBldgShare['year']))\n",
    "y = np.array(list(EUBldgShare['bldg glass/flat glass, %']))"
   ]
  },
  {
   "cell_type": "code",
   "execution_count": 73,
   "metadata": {},
   "outputs": [
    {
     "data": {
      "text/plain": [
       "{'Polynomial': [-3.4521730228306334e-05,\n",
       "  0.20725187956783656,\n",
       "  -414.72618891658817,\n",
       "  276619.29946330993],\n",
       " 'Covariance': [[4.109238178503476e-12,\n",
       "   -2.4639321146347077e-08,\n",
       "   4.924491307479004e-05,\n",
       "   -0.03280644617199354],\n",
       "  [-2.4639321146074196e-08,\n",
       "   0.0001477396690094853,\n",
       "   -0.29527774726241013,\n",
       "   196.71138264975116],\n",
       "  [4.924491307369907e-05,\n",
       "   -0.295277747259139,\n",
       "   590.1538930772272,\n",
       "   -393156.091528027],\n",
       "  [-0.03280644617090325,\n",
       "   196.71138264539238,\n",
       "   -393156.0915236708,\n",
       "   261918214.935181]],\n",
       " 'Coefficient of determination': 0.9990347791405104}"
      ]
     },
     "execution_count": 73,
     "metadata": {},
     "output_type": "execute_result"
    }
   ],
   "source": [
    "n = 3\n",
    "\n",
    "# Polynomial coefficients and covariance matrix:\n",
    "coeffs, cov = np.polyfit(x, y, n, cov=True)\n",
    "\n",
    "results = {}\n",
    "results['Polynomial'] = coeffs.tolist()\n",
    "results['Covariance'] = cov.tolist()\n",
    "\n",
    "# Interpolation:\n",
    "t = np.linspace(1978, 2020, 43)\n",
    "\n",
    "# Matrix with rows 1, t, t**2...:\n",
    "TT = np.vstack([t**(n-i) for i in range(1+n)]).T\n",
    "\n",
    "# Matrix multiplication for the polynomial values:\n",
    "z = np.dot(TT, coeffs)\n",
    "\n",
    "# Standard deviations (sqrt of diagonal):\n",
    "sig = np.sqrt(\n",
    "    np.diag(\n",
    "        np.dot(TT, np.dot(cov, TT.T))\n",
    "              ))\n",
    "\n",
    "# r-squared\n",
    "p = np.poly1d(coeffs)\n",
    "# fit values, and mean\n",
    "yhat = p(x)                      # vector y = p(z) for z in x\n",
    "ybar = np.sum(y)/len(y)          # mean of y data\n",
    "SSres = np.sum((yhat-ybar)**2)   # residual sum of squares\n",
    "SStot = np.sum((y - ybar)**2)    # total sum squares\n",
    "results['Coefficient of determination'] = SSres / SStot\n",
    "\n",
    "results"
   ]
  },
  {
   "cell_type": "code",
   "execution_count": 74,
   "metadata": {},
   "outputs": [
    {
     "data": {
      "image/png": "[encoded data removed]",
      "text/plain": [
       "<Figure size 720x360 with 1 Axes>"
      ]
     },
     "metadata": {},
     "output_type": "display_data"
    }
   ],
   "source": [
    "fig, ax = plt.subplots(figsize=(10, 5))\n",
    "\n",
    "ax.fill_between(t, z+1.96*sig, z-1.96*sig, alpha=0.25)\n",
    "ax.plot(t, z,'-')\n",
    "ax.plot(x, y, 'ro')\n",
    "\n",
    "ax.set_ylim(0,1)\n",
    "ax.set_xlim(1978,2020)\n",
    "\n",
    "fig.suptitle('Share of bldg glass in the European flat glass production, %', \n",
    "             fontsize = 15)\n",
    "sns.despine()\n",
    "plt.show()"
   ]
  },
  {
   "cell_type": "code",
   "execution_count": null,
   "metadata": {},
   "outputs": [],
   "source": [
    "Aucun sens..."
   ]
  },
  {
   "cell_type": "markdown",
   "metadata": {},
   "source": [
    "# Flat Glass Production in France and Belgium"
   ]
  },
  {
   "cell_type": "markdown",
   "metadata": {},
   "source": [
    "## Creating a Dataframe for Flat Glass Flows"
   ]
  },
  {
   "cell_type": "code",
   "execution_count": 26,
   "metadata": {},
   "outputs": [
    {
     "data": {
      "text/html": [
       "<div>\n",
       "<style scoped>\n",
       "    .dataframe tbody tr th:only-of-type {\n",
       "        vertical-align: middle;\n",
       "    }\n",
       "\n",
       "    .dataframe tbody tr th {\n",
       "        vertical-align: top;\n",
       "    }\n",
       "\n",
       "    .dataframe thead th {\n",
       "        text-align: right;\n",
       "    }\n",
       "</style>\n",
       "<table border=\"1\" class=\"dataframe\">\n",
       "  <thead>\n",
       "    <tr style=\"text-align: right;\">\n",
       "      <th></th>\n",
       "      <th>FR [kt]</th>\n",
       "      <th>BE [kt]</th>\n",
       "    </tr>\n",
       "    <tr>\n",
       "      <th>year</th>\n",
       "      <th></th>\n",
       "      <th></th>\n",
       "    </tr>\n",
       "  </thead>\n",
       "  <tbody>\n",
       "    <tr>\n",
       "      <th>1945</th>\n",
       "      <td>108.3</td>\n",
       "      <td>NaN</td>\n",
       "    </tr>\n",
       "    <tr>\n",
       "      <th>1946</th>\n",
       "      <td>173.8</td>\n",
       "      <td>NaN</td>\n",
       "    </tr>\n",
       "    <tr>\n",
       "      <th>1947</th>\n",
       "      <td>198.3</td>\n",
       "      <td>NaN</td>\n",
       "    </tr>\n",
       "    <tr>\n",
       "      <th>1948</th>\n",
       "      <td>220.2</td>\n",
       "      <td>NaN</td>\n",
       "    </tr>\n",
       "    <tr>\n",
       "      <th>1949</th>\n",
       "      <td>191.3</td>\n",
       "      <td>NaN</td>\n",
       "    </tr>\n",
       "    <tr>\n",
       "      <th>...</th>\n",
       "      <td>...</td>\n",
       "      <td>...</td>\n",
       "    </tr>\n",
       "    <tr>\n",
       "      <th>2016</th>\n",
       "      <td>NaN</td>\n",
       "      <td>NaN</td>\n",
       "    </tr>\n",
       "    <tr>\n",
       "      <th>2017</th>\n",
       "      <td>NaN</td>\n",
       "      <td>NaN</td>\n",
       "    </tr>\n",
       "    <tr>\n",
       "      <th>2018</th>\n",
       "      <td>NaN</td>\n",
       "      <td>NaN</td>\n",
       "    </tr>\n",
       "    <tr>\n",
       "      <th>2019</th>\n",
       "      <td>NaN</td>\n",
       "      <td>NaN</td>\n",
       "    </tr>\n",
       "    <tr>\n",
       "      <th>2020</th>\n",
       "      <td>NaN</td>\n",
       "      <td>NaN</td>\n",
       "    </tr>\n",
       "  </tbody>\n",
       "</table>\n",
       "<p>76 rows × 2 columns</p>\n",
       "</div>"
      ],
      "text/plain": [
       "      FR [kt]  BE [kt]\n",
       "year                  \n",
       "1945    108.3      NaN\n",
       "1946    173.8      NaN\n",
       "1947    198.3      NaN\n",
       "1948    220.2      NaN\n",
       "1949    191.3      NaN\n",
       "...       ...      ...\n",
       "2016      NaN      NaN\n",
       "2017      NaN      NaN\n",
       "2018      NaN      NaN\n",
       "2019      NaN      NaN\n",
       "2020      NaN      NaN\n",
       "\n",
       "[76 rows x 2 columns]"
      ]
     },
     "execution_count": 26,
     "metadata": {},
     "output_type": "execute_result"
    }
   ],
   "source": [
    "# Creating a DataFrame only with production data\n",
    "FR_Prod = FR_data.parse('prod').set_index('year')\n",
    "BE_Prod = BE_data.parse('prod').set_index('year')\n",
    "\n",
    "# Creating a new DataFrame for Belgian and French flat glass production\n",
    "BE_FR_FGProd = pd.concat([FR_Prod['flat glass, kt'],\n",
    "                          BE_Prod['flat glass, kt']],\n",
    "                         axis=1, keys=['FR [kt]', 'BE [kt]'])\n",
    "\n",
    "BE_FR_FGProd"
   ]
  },
  {
   "cell_type": "code",
   "execution_count": 27,
   "metadata": {},
   "outputs": [],
   "source": [
    "# Creating a DataFrame with import and export data\n",
    "FR_Imp = FR_data.parse('import').set_index('year')\n",
    "FR_Exp = FR_data.parse('export').set_index('year')\n",
    "\n",
    "BE_Imp = BE_data.parse('import').set_index('year')\n",
    "BE_Exp = BE_data.parse('export').set_index('year')"
   ]
  },
  {
   "cell_type": "code",
   "execution_count": 28,
   "metadata": {},
   "outputs": [],
   "source": [
    "# Creating a unique DataFrame for French and Belgian flat glass flows\n",
    "BE_FR = pd.concat([FR_Prod['flat glass, kt'], BE_Prod['flat glass, kt'],\n",
    "                   FR_Imp['flat glass, kt'], BE_Imp['flat glass, kt'],\n",
    "                   FR_Exp['flat glass, kt'], BE_Exp['flat glass, kt']],\n",
    "                  axis=1, keys=[('Production [kt]', 'France'),\n",
    "                                ('Production [kt]', 'Belgium'),\n",
    "                                ('Import [kt]', 'France'), \n",
    "                                ('Import [kt]', 'Belgium'),\n",
    "                                ('Export [kt]', 'France'), \n",
    "                                ('Export [kt]', 'Belgium')],\n",
    "                  names=['Info', 'Country']).stack()\n",
    "\n",
    "BE_FR = BE_FR.unstack()"
   ]
  },
  {
   "cell_type": "code",
   "execution_count": 29,
   "metadata": {},
   "outputs": [
    {
     "data": {
      "text/html": [
       "<div>\n",
       "<style scoped>\n",
       "    .dataframe tbody tr th:only-of-type {\n",
       "        vertical-align: middle;\n",
       "    }\n",
       "\n",
       "    .dataframe tbody tr th {\n",
       "        vertical-align: top;\n",
       "    }\n",
       "\n",
       "    .dataframe thead tr th {\n",
       "        text-align: left;\n",
       "    }\n",
       "\n",
       "    .dataframe thead tr:last-of-type th {\n",
       "        text-align: right;\n",
       "    }\n",
       "</style>\n",
       "<table border=\"1\" class=\"dataframe\">\n",
       "  <thead>\n",
       "    <tr>\n",
       "      <th>Info</th>\n",
       "      <th colspan=\"2\" halign=\"left\">Export [kt]</th>\n",
       "      <th colspan=\"2\" halign=\"left\">Import [kt]</th>\n",
       "      <th colspan=\"2\" halign=\"left\">Production [kt]</th>\n",
       "    </tr>\n",
       "    <tr>\n",
       "      <th>Country</th>\n",
       "      <th>Belgium</th>\n",
       "      <th>France</th>\n",
       "      <th>Belgium</th>\n",
       "      <th>France</th>\n",
       "      <th>Belgium</th>\n",
       "      <th>France</th>\n",
       "    </tr>\n",
       "    <tr>\n",
       "      <th>year</th>\n",
       "      <th></th>\n",
       "      <th></th>\n",
       "      <th></th>\n",
       "      <th></th>\n",
       "      <th></th>\n",
       "      <th></th>\n",
       "    </tr>\n",
       "  </thead>\n",
       "  <tbody>\n",
       "    <tr>\n",
       "      <th>1945</th>\n",
       "      <td>NaN</td>\n",
       "      <td>NaN</td>\n",
       "      <td>NaN</td>\n",
       "      <td>NaN</td>\n",
       "      <td>NaN</td>\n",
       "      <td>108.3</td>\n",
       "    </tr>\n",
       "    <tr>\n",
       "      <th>1946</th>\n",
       "      <td>NaN</td>\n",
       "      <td>NaN</td>\n",
       "      <td>NaN</td>\n",
       "      <td>NaN</td>\n",
       "      <td>NaN</td>\n",
       "      <td>173.8</td>\n",
       "    </tr>\n",
       "    <tr>\n",
       "      <th>1947</th>\n",
       "      <td>NaN</td>\n",
       "      <td>NaN</td>\n",
       "      <td>NaN</td>\n",
       "      <td>NaN</td>\n",
       "      <td>NaN</td>\n",
       "      <td>198.3</td>\n",
       "    </tr>\n",
       "    <tr>\n",
       "      <th>1948</th>\n",
       "      <td>NaN</td>\n",
       "      <td>NaN</td>\n",
       "      <td>NaN</td>\n",
       "      <td>NaN</td>\n",
       "      <td>NaN</td>\n",
       "      <td>220.2</td>\n",
       "    </tr>\n",
       "    <tr>\n",
       "      <th>1949</th>\n",
       "      <td>NaN</td>\n",
       "      <td>NaN</td>\n",
       "      <td>NaN</td>\n",
       "      <td>NaN</td>\n",
       "      <td>NaN</td>\n",
       "      <td>191.3</td>\n",
       "    </tr>\n",
       "    <tr>\n",
       "      <th>...</th>\n",
       "      <td>...</td>\n",
       "      <td>...</td>\n",
       "      <td>...</td>\n",
       "      <td>...</td>\n",
       "      <td>...</td>\n",
       "      <td>...</td>\n",
       "    </tr>\n",
       "    <tr>\n",
       "      <th>2016</th>\n",
       "      <td>499.79</td>\n",
       "      <td>300.84</td>\n",
       "      <td>216.27</td>\n",
       "      <td>370.0</td>\n",
       "      <td>NaN</td>\n",
       "      <td>NaN</td>\n",
       "    </tr>\n",
       "    <tr>\n",
       "      <th>2017</th>\n",
       "      <td>547.19</td>\n",
       "      <td>333.31</td>\n",
       "      <td>230.96</td>\n",
       "      <td>401.0</td>\n",
       "      <td>NaN</td>\n",
       "      <td>NaN</td>\n",
       "    </tr>\n",
       "    <tr>\n",
       "      <th>2018</th>\n",
       "      <td>547.76</td>\n",
       "      <td>349.18</td>\n",
       "      <td>228.65</td>\n",
       "      <td>355.0</td>\n",
       "      <td>NaN</td>\n",
       "      <td>NaN</td>\n",
       "    </tr>\n",
       "    <tr>\n",
       "      <th>2019</th>\n",
       "      <td>986.33</td>\n",
       "      <td>451.42</td>\n",
       "      <td>254.22</td>\n",
       "      <td>352.0</td>\n",
       "      <td>NaN</td>\n",
       "      <td>NaN</td>\n",
       "    </tr>\n",
       "    <tr>\n",
       "      <th>2020</th>\n",
       "      <td>NaN</td>\n",
       "      <td>NaN</td>\n",
       "      <td>NaN</td>\n",
       "      <td>349.0</td>\n",
       "      <td>NaN</td>\n",
       "      <td>NaN</td>\n",
       "    </tr>\n",
       "  </tbody>\n",
       "</table>\n",
       "<p>76 rows × 6 columns</p>\n",
       "</div>"
      ],
      "text/plain": [
       "Info    Export [kt]         Import [kt]        Production [kt]       \n",
       "Country     Belgium  France     Belgium France         Belgium France\n",
       "year                                                                 \n",
       "1945            NaN     NaN         NaN    NaN             NaN  108.3\n",
       "1946            NaN     NaN         NaN    NaN             NaN  173.8\n",
       "1947            NaN     NaN         NaN    NaN             NaN  198.3\n",
       "1948            NaN     NaN         NaN    NaN             NaN  220.2\n",
       "1949            NaN     NaN         NaN    NaN             NaN  191.3\n",
       "...             ...     ...         ...    ...             ...    ...\n",
       "2016         499.79  300.84      216.27  370.0             NaN    NaN\n",
       "2017         547.19  333.31      230.96  401.0             NaN    NaN\n",
       "2018         547.76  349.18      228.65  355.0             NaN    NaN\n",
       "2019         986.33  451.42      254.22  352.0             NaN    NaN\n",
       "2020            NaN     NaN         NaN  349.0             NaN    NaN\n",
       "\n",
       "[76 rows x 6 columns]"
      ]
     },
     "execution_count": 29,
     "metadata": {},
     "output_type": "execute_result"
    }
   ],
   "source": [
    "BE_FR"
   ]
  },
  {
   "cell_type": "markdown",
   "metadata": {},
   "source": [
    "## Production of flat glass"
   ]
  },
  {
   "cell_type": "code",
   "execution_count": 30,
   "metadata": {},
   "outputs": [
    {
     "data": {
      "image/png": "[encoded data removed]",
      "text/plain": [
       "<Figure size 1152x576 with 2 Axes>"
      ]
     },
     "metadata": {},
     "output_type": "display_data"
    }
   ],
   "source": [
    "fig, axes = plt.subplots(nrows=1, ncols=2, \n",
    "                         figsize=(16, 8), \n",
    "                         sharex=True, sharey=True)\n",
    "\n",
    "for i, (ax, col) in enumerate(zip(axes.flatten(), \n",
    "                                  BE_FR['Production [kt]'].columns)):\n",
    "\n",
    "    ax.plot(BE_FR['Production [kt]'].index, BE_FR['Production [kt]'][col])\n",
    "    ax.set_title(col)\n",
    "    ax.set_xlim(1945,2015)\n",
    "    ax.set_ylim(ymin=0)\n",
    "    \n",
    "fig.suptitle('Flat glass production [kt/y]', fontsize = 15)\n",
    "sns.despine()\n",
    "plt.show()"
   ]
  },
  {
   "cell_type": "code",
   "execution_count": 31,
   "metadata": {},
   "outputs": [
    {
     "data": {
      "image/png": "[encoded data removed]",
      "text/plain": [
       "<Figure size 1152x576 with 2 Axes>"
      ]
     },
     "metadata": {},
     "output_type": "display_data"
    }
   ],
   "source": [
    "with sns.plotting_context(\"notebook\"):\n",
    "    # Linear interpolation for flat glass production\n",
    "    #Rolling flat glass production according to a 5-year mean\n",
    "    (BE_FR['Production [kt]']\n",
    "     .interpolate(method=\"linear\", limit_area='inside')\n",
    "     .rolling(5, center = True)\n",
    "     .mean()).plot(subplots=True, \n",
    "                   grid=False,\n",
    "                   layout=(1, 2), \n",
    "                   figsize=(16, 8),\n",
    "                   sharex=True, sharey=True,\n",
    "                   title=\"Flat glass production, rolled, [kt]\")\n",
    "    \n",
    "    ax.set_xlim(1945,2015)\n",
    "    ax.set_ylim(ymin=0)\n",
    "    sns.despine()\n",
    "    plt.show()"
   ]
  },
  {
   "cell_type": "markdown",
   "metadata": {},
   "source": [
    "## Consumption of flat glass"
   ]
  },
  {
   "cell_type": "code",
   "execution_count": 32,
   "metadata": {},
   "outputs": [],
   "source": [
    "BE_FR = BE_FR.stack()\n",
    "\n",
    "BE_FR['Import Ratio'] = BE_FR['Import [kt]'] / BE_FR['Production [kt]']\n",
    "BE_FR['Export Ratio'] = BE_FR['Export [kt]'] / BE_FR['Production [kt]']\n",
    "\n",
    "BE_FR = BE_FR.unstack()"
   ]
  },
  {
   "cell_type": "code",
   "execution_count": 33,
   "metadata": {},
   "outputs": [],
   "source": [
    "ratios = ['Import', 'Export']\n",
    "countries = ['Belgium', 'France']"
   ]
  },
  {
   "cell_type": "code",
   "execution_count": 34,
   "metadata": {},
   "outputs": [
    {
     "data": {
      "image/png": "[encoded data removed]",
      "text/plain": [
       "<Figure size 1152x648 with 4 Axes>"
      ]
     },
     "metadata": {},
     "output_type": "display_data"
    }
   ],
   "source": [
    "nrows = len(ratios)\n",
    "ncols = len(countries)\n",
    "\n",
    "fig, axes = plt.subplots(nrows=nrows, ncols=ncols,\n",
    "                         sharex=True, sharey=True,\n",
    "                         figsize=(16,9))\n",
    "\n",
    "for row, ratio in enumerate(ratios):\n",
    "    for col, country in enumerate(countries):\n",
    "        ax=axes[row][col]\n",
    "        if row == 0:\n",
    "            ax.set_title(country)\n",
    "        if col == 0:\n",
    "            ax.set_ylabel(ratio)\n",
    "        (BE_FR[(f\"{ratio} Ratio\", country)]\n",
    "         .plot(ax=ax)\n",
    "        )\n",
    "        \n",
    "ax.set_xlim(1945,2020)\n",
    "\n",
    "# Eventuellement: fig.tight_layout()\n",
    "fig.suptitle(\"Import and export of flat glass compared to production [-]\")\n",
    "sns.despine()\n",
    "plt.show()"
   ]
  },
  {
   "cell_type": "code",
   "execution_count": 35,
   "metadata": {},
   "outputs": [],
   "source": [
    "# Interpolation for missing data\n",
    "cols = [x for x in BE_FR.columns if x[0] in ['Import Ratio', 'Export Ratio']]\n",
    "\n",
    "BE_FR[cols] = (BE_FR[cols].interpolate(method='linear'))"
   ]
  },
  {
   "cell_type": "code",
   "execution_count": 36,
   "metadata": {
    "scrolled": false
   },
   "outputs": [
    {
     "data": {
      "text/html": [
       "<div>\n",
       "<style scoped>\n",
       "    .dataframe tbody tr th:only-of-type {\n",
       "        vertical-align: middle;\n",
       "    }\n",
       "\n",
       "    .dataframe tbody tr th {\n",
       "        vertical-align: top;\n",
       "    }\n",
       "\n",
       "    .dataframe thead tr th {\n",
       "        text-align: left;\n",
       "    }\n",
       "\n",
       "    .dataframe thead tr:last-of-type th {\n",
       "        text-align: right;\n",
       "    }\n",
       "</style>\n",
       "<table border=\"1\" class=\"dataframe\">\n",
       "  <thead>\n",
       "    <tr>\n",
       "      <th>Info</th>\n",
       "      <th colspan=\"2\" halign=\"left\">Import Ratio</th>\n",
       "      <th colspan=\"2\" halign=\"left\">Export Ratio</th>\n",
       "    </tr>\n",
       "    <tr>\n",
       "      <th>Country</th>\n",
       "      <th>Belgium</th>\n",
       "      <th>France</th>\n",
       "      <th>Belgium</th>\n",
       "      <th>France</th>\n",
       "    </tr>\n",
       "    <tr>\n",
       "      <th>year</th>\n",
       "      <th></th>\n",
       "      <th></th>\n",
       "      <th></th>\n",
       "      <th></th>\n",
       "    </tr>\n",
       "  </thead>\n",
       "  <tbody>\n",
       "    <tr>\n",
       "      <th>1950</th>\n",
       "      <td>NaN</td>\n",
       "      <td>NaN</td>\n",
       "      <td>NaN</td>\n",
       "      <td>0.29</td>\n",
       "    </tr>\n",
       "    <tr>\n",
       "      <th>1951</th>\n",
       "      <td>NaN</td>\n",
       "      <td>NaN</td>\n",
       "      <td>NaN</td>\n",
       "      <td>0.28</td>\n",
       "    </tr>\n",
       "    <tr>\n",
       "      <th>1952</th>\n",
       "      <td>NaN</td>\n",
       "      <td>5.99e-03</td>\n",
       "      <td>NaN</td>\n",
       "      <td>0.27</td>\n",
       "    </tr>\n",
       "    <tr>\n",
       "      <th>1953</th>\n",
       "      <td>NaN</td>\n",
       "      <td>5.33e-03</td>\n",
       "      <td>NaN</td>\n",
       "      <td>0.26</td>\n",
       "    </tr>\n",
       "    <tr>\n",
       "      <th>1954</th>\n",
       "      <td>NaN</td>\n",
       "      <td>4.99e-02</td>\n",
       "      <td>NaN</td>\n",
       "      <td>0.24</td>\n",
       "    </tr>\n",
       "    <tr>\n",
       "      <th>1955</th>\n",
       "      <td>NaN</td>\n",
       "      <td>4.64e-02</td>\n",
       "      <td>NaN</td>\n",
       "      <td>0.20</td>\n",
       "    </tr>\n",
       "    <tr>\n",
       "      <th>1956</th>\n",
       "      <td>NaN</td>\n",
       "      <td>4.47e-02</td>\n",
       "      <td>NaN</td>\n",
       "      <td>0.17</td>\n",
       "    </tr>\n",
       "    <tr>\n",
       "      <th>1957</th>\n",
       "      <td>NaN</td>\n",
       "      <td>4.30e-02</td>\n",
       "      <td>NaN</td>\n",
       "      <td>0.15</td>\n",
       "    </tr>\n",
       "    <tr>\n",
       "      <th>1958</th>\n",
       "      <td>NaN</td>\n",
       "      <td>4.14e-02</td>\n",
       "      <td>NaN</td>\n",
       "      <td>0.18</td>\n",
       "    </tr>\n",
       "    <tr>\n",
       "      <th>1959</th>\n",
       "      <td>NaN</td>\n",
       "      <td>3.97e-02</td>\n",
       "      <td>NaN</td>\n",
       "      <td>0.21</td>\n",
       "    </tr>\n",
       "    <tr>\n",
       "      <th>1960</th>\n",
       "      <td>0.02</td>\n",
       "      <td>3.80e-02</td>\n",
       "      <td>0.66</td>\n",
       "      <td>0.24</td>\n",
       "    </tr>\n",
       "  </tbody>\n",
       "</table>\n",
       "</div>"
      ],
      "text/plain": [
       "Info    Import Ratio           Export Ratio       \n",
       "Country      Belgium    France      Belgium France\n",
       "year                                              \n",
       "1950             NaN       NaN          NaN   0.29\n",
       "1951             NaN       NaN          NaN   0.28\n",
       "1952             NaN  5.99e-03          NaN   0.27\n",
       "1953             NaN  5.33e-03          NaN   0.26\n",
       "1954             NaN  4.99e-02          NaN   0.24\n",
       "1955             NaN  4.64e-02          NaN   0.20\n",
       "1956             NaN  4.47e-02          NaN   0.17\n",
       "1957             NaN  4.30e-02          NaN   0.15\n",
       "1958             NaN  4.14e-02          NaN   0.18\n",
       "1959             NaN  3.97e-02          NaN   0.21\n",
       "1960            0.02  3.80e-02         0.66   0.24"
      ]
     },
     "execution_count": 36,
     "metadata": {},
     "output_type": "execute_result"
    }
   ],
   "source": [
    "BE_FR.loc[1950:1960, cols]"
   ]
  },
  {
   "cell_type": "code",
   "execution_count": 37,
   "metadata": {},
   "outputs": [
    {
     "data": {
      "image/png": "[encoded data removed]",
      "text/plain": [
       "<Figure size 1152x648 with 4 Axes>"
      ]
     },
     "metadata": {},
     "output_type": "display_data"
    }
   ],
   "source": [
    "fig, axes = plt.subplots(nrows=nrows, ncols=ncols,\n",
    "                         sharex=True, sharey=True,\n",
    "                         figsize=(16,9))\n",
    "for row, ratio in enumerate(ratios):\n",
    "    for col, country in enumerate(countries):\n",
    "        ax=axes[row][col]\n",
    "        if row == 0:\n",
    "            ax.set_title(country)\n",
    "        if col == 0:\n",
    "            ax.set_ylabel(ratio)\n",
    "        (BE_FR[(f\"{ratio} [kt]\", country)]\n",
    "         .interpolate(method='linear')\n",
    "         .rolling(5, center = True).mean()\n",
    "         .plot(ax=ax)\n",
    "        )\n",
    "        \n",
    "ax.set_xlim(1945,2020)\n",
    "\n",
    "# Eventuellement: fig.tight_layout()\n",
    "\n",
    "fig.suptitle(\"Import and export of flat glass [kt]]\")\n",
    "sns.despine()\n",
    "plt.show()"
   ]
  },
  {
   "cell_type": "code",
   "execution_count": 38,
   "metadata": {},
   "outputs": [
    {
     "data": {
      "image/png": "[encoded data removed]",
      "text/plain": [
       "<Figure size 1152x648 with 4 Axes>"
      ]
     },
     "metadata": {},
     "output_type": "display_data"
    }
   ],
   "source": [
    "nrows = len(ratios)\n",
    "ncols = len(countries)\n",
    "\n",
    "fig, axes = plt.subplots(nrows=nrows, ncols=ncols,\n",
    "                         sharex=True, sharey=True,\n",
    "                         figsize=(16,9))\n",
    "for row, ratio in enumerate(ratios):\n",
    "    for col, country in enumerate(countries):\n",
    "        ax=axes[row][col]\n",
    "        if row == 0:\n",
    "            ax.set_title(country)\n",
    "        if col == 0:\n",
    "            ax.set_ylabel(ratio)\n",
    "        (BE_FR[(f\"{ratio} Ratio\", country)]\n",
    "         .rolling(5, center = True).mean()\n",
    "         .plot(ax=ax)\n",
    "        )\n",
    "        \n",
    "ax.set_xlim(1945,2020)\n",
    "\n",
    "# Eventuellement: fig.tight_layout()\n",
    "\n",
    "sns.despine()\n",
    "plt.show()"
   ]
  },
  {
   "cell_type": "code",
   "execution_count": 39,
   "metadata": {
    "code_folding": []
   },
   "outputs": [],
   "source": [
    "BE_FR = BE_FR.stack()\n",
    "\n",
    "BE_FR['Consumption [kt]'] = (BE_FR['Production [kt]']\n",
    "                                         + BE_FR['Import Ratio'] \n",
    "                                         * BE_FR['Production [kt]']\n",
    "                                         - BE_FR['Export Ratio'] \n",
    "                                         * BE_FR['Production [kt]'])\n",
    "\n",
    "BE_FR = BE_FR.unstack()"
   ]
  },
  {
   "cell_type": "code",
   "execution_count": 40,
   "metadata": {},
   "outputs": [
    {
     "data": {
      "image/png": "[encoded data removed]",
      "text/plain": [
       "<Figure size 1152x576 with 2 Axes>"
      ]
     },
     "metadata": {},
     "output_type": "display_data"
    }
   ],
   "source": [
    "with sns.plotting_context(\"notebook\"):\n",
    "    # Linear interpolation for flat glass consumption\n",
    "    #Rolling flat glass production according to a 5-year mean\n",
    "    (BE_FR['Consumption [kt]']\n",
    "     .interpolate(method=\"linear\", limit_area='inside')\n",
    "     .rolling(5, center = True)\n",
    "     .mean()).plot(subplots=True, \n",
    "                   grid=False,\n",
    "                   layout=(1, 2), \n",
    "                   figsize=(16, 8),\n",
    "                   sharex=True, sharey=True,\n",
    "                   title=\"Flat glass consumption, rolled, [kt]\")\n",
    "    \n",
    "    ax.set_xlim(1945,2015)\n",
    "    ax.set_ylim(ymin=0)\n",
    "    sns.despine()\n",
    "    plt.show()"
   ]
  },
  {
   "cell_type": "code",
   "execution_count": 41,
   "metadata": {},
   "outputs": [],
   "source": [
    "# Creating a DataFrame with import and export data\n",
    "FR_Pop = FR_data.parse('Population').set_index('year')\n",
    "BE_Pop = BE_data.parse('Population').set_index('year')"
   ]
  },
  {
   "cell_type": "code",
   "execution_count": 42,
   "metadata": {},
   "outputs": [],
   "source": [
    "# Creating a unique DataFrame for French and Belgian population\n",
    "BE_FR_Pop = pd.concat([FR_Pop['Population, x1000'],\n",
    "                       BE_Pop['Population, x1000']],\n",
    "                      axis=1, keys=[('Population [x1000]', 'France'),\n",
    "                                    ('Population [x1000]', 'Belgium')],\n",
    "                      names=['Info', 'Country']).stack()\n",
    "\n",
    "BE_FR_Pop = BE_FR_Pop.unstack()"
   ]
  },
  {
   "cell_type": "code",
   "execution_count": 43,
   "metadata": {},
   "outputs": [],
   "source": [
    "BE_FR_Pop[('Population [x1000]', 'Belgium')] = (\n",
    "    BE_FR_Pop[('Population [x1000]', 'Belgium')].interpolate(method='linear')\n",
    ")"
   ]
  },
  {
   "cell_type": "code",
   "execution_count": 44,
   "metadata": {},
   "outputs": [],
   "source": [
    "# Estimate the consumption per capita\n",
    "for country in BE_FR['Consumption [kt]'].columns:\n",
    "    BE_FR[('Consumption [kg/cap]', country)] = (\n",
    "        BE_FR[('Consumption [kt]', country)]\n",
    "        / BE_FR_Pop[('Population [x1000]', country)] * 1000)"
   ]
  },
  {
   "cell_type": "code",
   "execution_count": 45,
   "metadata": {},
   "outputs": [
    {
     "data": {
      "image/png": "[encoded data removed]",
      "text/plain": [
       "<Figure size 1152x576 with 2 Axes>"
      ]
     },
     "metadata": {},
     "output_type": "display_data"
    }
   ],
   "source": [
    "(BE_FR['Consumption [kg/cap]']\n",
    " .plot(subplots=True, \n",
    "       grid=False,\n",
    "       layout=(1, 2), \n",
    "       figsize=(16, 8),\n",
    "       sharex=True, sharey=True,\n",
    "       title=(\"Flat glass consumption, kg per capita\")\n",
    "      )\n",
    ")\n",
    "    \n",
    "ax.set_xlim(1945,2015)\n",
    "ax.set_ylim(ymin=0)\n",
    "sns.despine()\n",
    "plt.show()"
   ]
  },
  {
   "cell_type": "code",
   "execution_count": 46,
   "metadata": {},
   "outputs": [
    {
     "data": {
      "image/png": "[encoded data removed]",
      "text/plain": [
       "<Figure size 1152x576 with 2 Axes>"
      ]
     },
     "metadata": {},
     "output_type": "display_data"
    }
   ],
   "source": [
    "((BE_FR['Consumption [kg/cap]']\n",
    "     .rolling(5, center = True)\n",
    "     .mean())\n",
    " .plot(subplots=True, \n",
    "       grid=False,\n",
    "       layout=(1, 2), \n",
    "       figsize=(16, 8),\n",
    "       sharex=True, sharey=True,\n",
    "       title=\"Flat glass consumption, kg per capita, rolled\")\n",
    ")\n",
    "    \n",
    "ax.set_xlim(1945,2015)\n",
    "ax.set_ylim(ymin=0)\n",
    "sns.despine()\n",
    "plt.show()"
   ]
  },
  {
   "cell_type": "markdown",
   "metadata": {},
   "source": [
    "## Production of architectural flat glass"
   ]
  },
  {
   "cell_type": "code",
   "execution_count": 50,
   "metadata": {},
   "outputs": [
    {
     "name": "stdout",
     "output_type": "stream",
     "text": [
      "bldg glass/flat glass, %    0\n",
      "dtype: int64\n"
     ]
    },
    {
     "data": {
      "text/html": [
       "<div>\n",
       "<style scoped>\n",
       "    .dataframe tbody tr th:only-of-type {\n",
       "        vertical-align: middle;\n",
       "    }\n",
       "\n",
       "    .dataframe tbody tr th {\n",
       "        vertical-align: top;\n",
       "    }\n",
       "\n",
       "    .dataframe thead th {\n",
       "        text-align: right;\n",
       "    }\n",
       "</style>\n",
       "<table border=\"1\" class=\"dataframe\">\n",
       "  <thead>\n",
       "    <tr style=\"text-align: right;\">\n",
       "      <th></th>\n",
       "      <th>bldg glass/flat glass, %</th>\n",
       "    </tr>\n",
       "    <tr>\n",
       "      <th>year</th>\n",
       "      <th></th>\n",
       "    </tr>\n",
       "  </thead>\n",
       "  <tbody>\n",
       "    <tr>\n",
       "      <th>1945</th>\n",
       "      <td>0.90</td>\n",
       "    </tr>\n",
       "    <tr>\n",
       "      <th>1952</th>\n",
       "      <td>0.80</td>\n",
       "    </tr>\n",
       "    <tr>\n",
       "      <th>1962</th>\n",
       "      <td>0.68</td>\n",
       "    </tr>\n",
       "    <tr>\n",
       "      <th>1968</th>\n",
       "      <td>0.50</td>\n",
       "    </tr>\n",
       "    <tr>\n",
       "      <th>1980</th>\n",
       "      <td>0.50</td>\n",
       "    </tr>\n",
       "    <tr>\n",
       "      <th>1994</th>\n",
       "      <td>0.50</td>\n",
       "    </tr>\n",
       "    <tr>\n",
       "      <th>2002</th>\n",
       "      <td>0.52</td>\n",
       "    </tr>\n",
       "    <tr>\n",
       "      <th>2004</th>\n",
       "      <td>0.49</td>\n",
       "    </tr>\n",
       "    <tr>\n",
       "      <th>2009</th>\n",
       "      <td>0.52</td>\n",
       "    </tr>\n",
       "    <tr>\n",
       "      <th>2010</th>\n",
       "      <td>0.50</td>\n",
       "    </tr>\n",
       "    <tr>\n",
       "      <th>2011</th>\n",
       "      <td>0.43</td>\n",
       "    </tr>\n",
       "    <tr>\n",
       "      <th>2012</th>\n",
       "      <td>0.51</td>\n",
       "    </tr>\n",
       "    <tr>\n",
       "      <th>2013</th>\n",
       "      <td>0.54</td>\n",
       "    </tr>\n",
       "  </tbody>\n",
       "</table>\n",
       "</div>"
      ],
      "text/plain": [
       "      bldg glass/flat glass, %\n",
       "year                          \n",
       "1945                      0.90\n",
       "1952                      0.80\n",
       "1962                      0.68\n",
       "1968                      0.50\n",
       "1980                      0.50\n",
       "1994                      0.50\n",
       "2002                      0.52\n",
       "2004                      0.49\n",
       "2009                      0.52\n",
       "2010                      0.50\n",
       "2011                      0.43\n",
       "2012                      0.51\n",
       "2013                      0.54"
      ]
     },
     "execution_count": 50,
     "metadata": {},
     "output_type": "execute_result"
    }
   ],
   "source": [
    "# Share of building glass in the French production of flat glass\n",
    "\n",
    "ShareFR = FR_Prod[['bldg glass/flat glass, %']].dropna()\n",
    "\n",
    "print(ShareFR.isnull().sum())\n",
    "ShareFR"
   ]
  },
  {
   "cell_type": "code",
   "execution_count": 51,
   "metadata": {},
   "outputs": [
    {
     "data": {
      "text/plain": [
       "{'Polynomial': [-2.378960893414362e-06,\n",
       "  0.014301359629274039,\n",
       "  -28.656983590865888,\n",
       "  19140.70797173813],\n",
       " 'Covariance': [[2.8029866613415203e-12,\n",
       "   -1.6645777335936083e-08,\n",
       "   3.2948302953039774e-05,\n",
       "   -0.021737417444942602],\n",
       "  [-1.6645777335958778e-08,\n",
       "   9.88533429177357e-05,\n",
       "   -0.19567014611392025,\n",
       "   129.09330281953902],\n",
       "  [3.294830295312971e-05,\n",
       "   -0.1956701461141876,\n",
       "   387.3129582861321,\n",
       "   -255532.078955934],\n",
       "  [-0.021737417445031697,\n",
       "   129.09330281989222,\n",
       "   -255532.0789562839,\n",
       "   168590499.05965033]],\n",
       " 'Coefficient of determination': 0.9311453347637837}"
      ]
     },
     "execution_count": 51,
     "metadata": {},
     "output_type": "execute_result"
    }
   ],
   "source": [
    "ShareFR['Trend'] = FR_Prod[['bldg glass/flat glass, %']].copy()\n",
    "\n",
    "ShareFR = ShareFR.reset_index()\n",
    "\n",
    "x = np.array(list(ShareFR['year']))\n",
    "y = np.array(list(ShareFR['Trend']))\n",
    "\n",
    "ShareFR = ShareFR.set_index('year')\n",
    "\n",
    "# Order of the regression:\n",
    "n = 3\n",
    "\n",
    "# Polynomial coefficients and covariance matrix:\n",
    "coeffs, cov = np.polyfit(x, y, n, cov=True)\n",
    "\n",
    "results = {}\n",
    "results['Polynomial'] = coeffs.tolist()\n",
    "results['Covariance'] = cov.tolist()\n",
    "\n",
    "# Interpolation:\n",
    "t = np.linspace(1945, 2020, 76)\n",
    "\n",
    "# Matrix with rows 1, t, t**2...:\n",
    "TT = np.vstack([t**(n-i) for i in range(1+n)]).T\n",
    "\n",
    "# Matrix multiplication for the polynomial values:\n",
    "z = np.dot(TT, coeffs)\n",
    "\n",
    "# Standard deviations (sqrt of diagonal):\n",
    "sig = np.sqrt(\n",
    "    np.diag(\n",
    "        np.dot(TT, np.dot(cov, TT.T))\n",
    "              ))\n",
    "\n",
    "# r-squared\n",
    "p = np.poly1d(coeffs)\n",
    "# fit values, and mean\n",
    "yhat = p(x)                      # vector y = p(z) for z in x\n",
    "ybar = np.sum(y)/len(y)          # mean of y data\n",
    "SSres = np.sum((yhat-ybar)**2)   # residual sum of squares\n",
    "SStot = np.sum((y - ybar)**2)    # total sum squares\n",
    "results['Coefficient of determination'] = SSres / SStot\n",
    "\n",
    "results"
   ]
  },
  {
   "cell_type": "code",
   "execution_count": 59,
   "metadata": {},
   "outputs": [
    {
     "data": {
      "image/png": "[encoded data removed]",
      "text/plain": [
       "<Figure size 720x360 with 1 Axes>"
      ]
     },
     "metadata": {},
     "output_type": "display_data"
    }
   ],
   "source": [
    "fig, ax = plt.subplots(figsize=(10, 5))\n",
    "\n",
    "ax.fill_between(t, z+1.96*sig, z-1.96*sig, alpha=0.25)\n",
    "ax.plot(t, z,'-')\n",
    "ax.plot(x, y, 'ro')\n",
    "\n",
    "ax.set_ylim(0,1)\n",
    "ax.set_xlim(1945,2015)\n",
    "\n",
    "fig.suptitle('Share of building glass in the French flat glass production, %', \n",
    "             fontsize = 15)\n",
    "sns.despine()\n",
    "plt.show()"
   ]
  },
  {
   "cell_type": "code",
   "execution_count": null,
   "metadata": {},
   "outputs": [],
   "source": [
    "len(z.tolist())"
   ]
  },
  {
   "cell_type": "code",
   "execution_count": null,
   "metadata": {},
   "outputs": [],
   "source": [
    "#Create a dataframe for ratio arch glass/tot flat glass:\n",
    "BldgShare = FR_Prod[['bldg glass/flat glass, %']].copy()\n",
    "\n",
    "# Interpolate values according to \n",
    "# nonlinear regression previously estimated\n",
    "BldgShare['Mean ratio arch glass/flat glass, %'] = z.tolist()\n",
    "\n",
    "# Integrate standard deviation in FR_Prod\n",
    "BldgShare['std for ratio arch glass/flat glass'] = sig.tolist()\n",
    "\n",
    "BldgShare\n"
   ]
  },
  {
   "cell_type": "code",
   "execution_count": null,
   "metadata": {},
   "outputs": [],
   "source": [
    "# Estimate architectural flat glass production in France and Belgium\n",
    "for country in countries:\n",
    "    BE_FR[('Architectural glass production [kt]', country)] = (\n",
    "        BE_FR[('Production [kt]', country)]\n",
    "        * BldgShare['Mean ratio arch glass/flat glass, %']\n",
    "    )\n",
    "    \n",
    "for country in countries:\n",
    "    BE_FR[('std for architectural glass production', country)] = (\n",
    "    BE_FR[('Production [kt]', country)]\n",
    "    * BldgShare['std for ratio arch glass/flat glass']\n",
    "    )"
   ]
  },
  {
   "cell_type": "code",
   "execution_count": null,
   "metadata": {
    "scrolled": false
   },
   "outputs": [],
   "source": [
    "x = np.array(BE_FR['Architectural glass production [kt]'].index)\n",
    "\n",
    "yminFR= np.array(BE_FR[('Architectural glass production [kt]', 'France')]\n",
    "                 +1.96\n",
    "                 *BE_FR[('std for architectural glass production', 'France')])\n",
    "ymaxFR = np.array(BE_FR[('Architectural glass production [kt]', 'France')]\n",
    "                  -1.96\n",
    "                  *BE_FR[('std for architectural glass production', 'France')])\n",
    "\n",
    "yminBE= np.array(BE_FR[('Architectural glass production [kt]', 'Belgium')]\n",
    "                 +1.96\n",
    "                 *BE_FR[('std for architectural glass production', 'Belgium')])\n",
    "ymaxBE = np.array(BE_FR[('Architectural glass production [kt]', 'Belgium')]\n",
    "                -1.96\n",
    "                  *BE_FR[('std for architectural glass production', 'Belgium')])"
   ]
  },
  {
   "cell_type": "code",
   "execution_count": null,
   "metadata": {},
   "outputs": [],
   "source": [
    "fig, axes = plt.subplots(nrows=1, ncols=2, \n",
    "                         figsize=(16, 8), \n",
    "                         sharex=True, sharey=True)\n",
    "\n",
    "for i, (ax, col) in enumerate(zip(axes.flatten(), \n",
    "                                  BE_FR['Architectural glass production [kt]']\n",
    "                                  .columns)):\n",
    "\n",
    "    ax.plot(BE_FR['Architectural glass production [kt]'].index, \n",
    "            BE_FR['Architectural glass production [kt]'][col])\n",
    "    if col == 'France':\n",
    "        ax.fill_between(x, yminFR, ymaxFR, alpha=0.25)\n",
    "    elif col == 'Belgium':\n",
    "        ax.fill_between(x, yminBE, ymaxBE, alpha=0.25)\n",
    "    ax.set_title(col)\n",
    "    ax.set_xlim(1945,2015)\n",
    "    ax.set_ylim(ymin=0)\n",
    "    \n",
    "fig.suptitle('Architectural flat glass production [kt/y]', fontsize = 15)\n",
    "sns.despine()\n",
    "plt.show()"
   ]
  },
  {
   "cell_type": "code",
   "execution_count": null,
   "metadata": {
    "scrolled": false
   },
   "outputs": [],
   "source": [
    "with sns.plotting_context(\"notebook\"):\n",
    "    # Linear interpolation for flat glass consumption\n",
    "    #Rolling flat glass production according to a 5-year mean\n",
    "    (BE_FR['Architectural glass production [kt]']\n",
    "     .interpolate(method=\"linear\", limit_area='inside')\n",
    "     .rolling(5, center = True)\n",
    "     .mean()).plot(subplots=True, \n",
    "                   grid=False,\n",
    "                   layout=(1, 2), \n",
    "                   figsize=(16, 8),\n",
    "                   sharex=True, sharey=True,\n",
    "                   title=\"Architectural flat glass production, rolled, [kt]\")\n",
    "    \n",
    "    ax.set_xlim(1945,2015)\n",
    "    ax.set_ylim(ymin=0)\n",
    "    sns.despine()\n",
    "    plt.show()"
   ]
  },
  {
   "cell_type": "code",
   "execution_count": null,
   "metadata": {},
   "outputs": [],
   "source": [
    "yminFR= np.array((BE_FR[('Architectural glass production [kt]', 'France')]\n",
    "                  .rolling(5, center = True).mean())\n",
    "                 +1.96*BE_FR[('std for architectural glass production', \n",
    "                              'France')]\n",
    "                )\n",
    "ymaxFR = np.array((BE_FR[('Architectural glass production [kt]', 'France')]\n",
    "                   .rolling(5, center = True).mean())\n",
    "                  -1.96*BE_FR[('std for architectural glass production', \n",
    "                               'France')]\n",
    "                 )\n",
    "\n",
    "yminBE= np.array((BE_FR[('Architectural glass production [kt]', 'Belgium')]\n",
    "                  .rolling(5, center = True).mean())\n",
    "                 +1.96*BE_FR[('std for architectural glass production', \n",
    "                              'Belgium')]\n",
    "                )\n",
    "ymaxBE = np.array((BE_FR[('Architectural glass production [kt]', 'Belgium')]\n",
    "                   .rolling(5, center = True).mean())\n",
    "                -1.96*BE_FR[('std for architectural glass production', \n",
    "                             'Belgium')]\n",
    "                 )"
   ]
  },
  {
   "cell_type": "code",
   "execution_count": null,
   "metadata": {},
   "outputs": [],
   "source": [
    "fig, axes = plt.subplots(nrows=1, ncols=2, \n",
    "                         figsize=(16, 8), \n",
    "                         sharex=True, sharey=True)\n",
    "\n",
    "for i, (ax, col) in enumerate(zip(axes.flatten(),\n",
    "                                  BE_FR['Architectural glass production [kt]']\n",
    "                                  .columns)):\n",
    "    ax.plot(BE_FR['Architectural glass production [kt]'].index, \n",
    "            (BE_FR['Architectural glass production [kt]'][col]\n",
    "             .rolling(5, center = True).mean())\n",
    "           )\n",
    "    if col == 'France':\n",
    "            ax.fill_between(x, yminFR, ymaxFR, alpha=0.15)\n",
    "    elif col == 'Belgium':\n",
    "            ax.fill_between(x, yminBE, ymaxBE, alpha=0.15)\n",
    "            \n",
    "    ax.set_title(col)\n",
    "    ax.set_xlim(1945,2015)\n",
    "    ax.set_ylim(ymin=0)\n",
    "    \n",
    "fig.suptitle('Architectural flat glass production [kt/y]', fontsize = 15)\n",
    "sns.despine()\n",
    "plt.show()"
   ]
  },
  {
   "cell_type": "markdown",
   "metadata": {},
   "source": [
    "## Consumption of architectural flat glass"
   ]
  },
  {
   "cell_type": "code",
   "execution_count": null,
   "metadata": {},
   "outputs": [],
   "source": [
    "BE_FR = BE_FR.stack()\n",
    "\n",
    "BE_FR['Architectural glass consumption [kt]'] = (\n",
    "    BE_FR['Architectural glass production [kt]']\n",
    "    + BE_FR['Import Ratio'] * BE_FR['Architectural glass production [kt]']\n",
    "    - BE_FR['Export Ratio'] * BE_FR['Architectural glass production [kt]']\n",
    ")\n",
    "\n",
    "BE_FR = BE_FR.unstack()"
   ]
  },
  {
   "cell_type": "code",
   "execution_count": null,
   "metadata": {},
   "outputs": [],
   "source": [
    "with sns.plotting_context(\"notebook\"):\n",
    "    # Linear interpolation for flat glass consumption\n",
    "    #Rolling flat glass production according to a 5-year mean\n",
    "    (BE_FR['Architectural glass consumption [kt]']\n",
    "     .interpolate(method=\"linear\", limit_area='inside')\n",
    "     .rolling(5, center = True)\n",
    "     .mean()).plot(subplots=True, \n",
    "                   grid=False,\n",
    "                   layout=(1, 2), \n",
    "                   figsize=(16, 8),\n",
    "                   sharex=True, sharey=True,\n",
    "                   title=\"Architectural glass consumption, rolled, [kt]\")\n",
    "    \n",
    "    ax.set_xlim(1945,2015)\n",
    "    ax.set_ylim(ymin=0)\n",
    "    sns.despine()\n",
    "    plt.show()"
   ]
  },
  {
   "cell_type": "code",
   "execution_count": null,
   "metadata": {},
   "outputs": [],
   "source": [
    "# Estimate the consumption per capita\n",
    "for country in BE_FR['Consumption [kt]'].columns:\n",
    "    BE_FR[('Architectural glass consumption [kg/cap]', \n",
    "           country)] = (\n",
    "        BE_FR[('Architectural glass consumption [kt]', country)]\n",
    "        / BE_FR_Pop[('Population [x1000]', country)] * 1000)"
   ]
  },
  {
   "cell_type": "code",
   "execution_count": null,
   "metadata": {},
   "outputs": [],
   "source": [
    "(BE_FR['Architectural glass consumption [kg/cap]']\n",
    " .plot(subplots=True, \n",
    "       grid=False,\n",
    "       layout=(1, 2), \n",
    "       figsize=(16, 8),\n",
    "       sharex=True, sharey=True,\n",
    "       title=(\"Architectural glass consumption, kg per capita\")\n",
    "      )\n",
    ")\n",
    "    \n",
    "ax.set_xlim(1945,2015)\n",
    "ax.set_ylim(ymin=0)\n",
    "sns.despine()\n",
    "plt.show()"
   ]
  },
  {
   "cell_type": "code",
   "execution_count": null,
   "metadata": {},
   "outputs": [],
   "source": [
    "((BE_FR['Architectural glass consumption [kg/cap]']\n",
    "     .rolling(5, center = True)\n",
    "     .mean())\n",
    " .plot(subplots=True, \n",
    "       grid=False,\n",
    "       layout=(1, 2), \n",
    "       figsize=(16, 8),\n",
    "       sharex=True, sharey=True,\n",
    "       title=\"Architectural glass consumption, kg per capita, rolled\")\n",
    ")\n",
    "\n",
    "ax.set_xlim(1945,2015)\n",
    "ax.set_ylim(ymin=0)\n",
    "sns.despine()\n",
    "plt.show()"
   ]
  },
  {
   "cell_type": "markdown",
   "metadata": {},
   "source": [
    "# Raw materials and energy use in the flat glass industry"
   ]
  },
  {
   "cell_type": "markdown",
   "metadata": {},
   "source": [
    "## Material intensity since 1945"
   ]
  },
  {
   "cell_type": "code",
   "execution_count": null,
   "metadata": {},
   "outputs": [],
   "source": [
    "# Creating a DataFrame for material intensity\n",
    "MatIntensity = FR_data.parse('RawMat_Intensity').set_index('year')"
   ]
  },
  {
   "cell_type": "code",
   "execution_count": null,
   "metadata": {},
   "outputs": [],
   "source": [
    "# Interpolating the raw material intensity dataset\n",
    "MatIntensity = MatIntensity.interpolate(method='pchip',\n",
    "                                         limit_direction='forward')"
   ]
  },
  {
   "cell_type": "code",
   "execution_count": null,
   "metadata": {},
   "outputs": [],
   "source": [
    "materials = ['internal cullet', 'external cullet', 'sand', 'sodium carbonate', \n",
    "             'sodium sulfate', 'limestone', 'dolomite', 'feldspar']"
   ]
  },
  {
   "cell_type": "code",
   "execution_count": null,
   "metadata": {},
   "outputs": [],
   "source": [
    "fig, axes = plt.subplots(nrows=2, ncols=4,\n",
    "                         sharex=True, sharey=True,\n",
    "                         figsize=(16,9))\n",
    "\n",
    "for i, (ax, mat) in enumerate(zip(axes.flatten(), materials)):\n",
    "\n",
    "    ax.set_title(mat)\n",
    "    MatIntensity[(f\"{mat}, kg/kg\")].plot(ax=ax)\n",
    "    \n",
    "ax.set_xlim(1950,2020)\n",
    "ax.set_ylim(0,1)\n",
    "\n",
    "# Eventuellement: fig.tight_layout()\n",
    "\n",
    "sns.despine()\n",
    "plt.show()"
   ]
  },
  {
   "cell_type": "code",
   "execution_count": null,
   "metadata": {},
   "outputs": [],
   "source": [
    "MatIntensity['Total raw materials, kg/kg'] = 0\n",
    "\n",
    "for mat in materials:\n",
    "    MatIntensity['Total raw materials, kg/kg'] = (\n",
    "        MatIntensity[(f\"{mat}, kg/kg\")] \n",
    "        + MatIntensity['Total raw materials, kg/kg']\n",
    "    )"
   ]
  },
  {
   "cell_type": "code",
   "execution_count": null,
   "metadata": {
    "scrolled": true
   },
   "outputs": [],
   "source": [
    "fig, ax = plt.subplots(figsize=(8, 4))\n",
    "sns.lineplot(data = MatIntensity, \n",
    "             x = MatIntensity.index, \n",
    "             y = 'Total raw materials, kg/kg',\n",
    "             ax=ax)\n",
    "\n",
    "ax.set_xlim(1945,2020)\n",
    "ax.set_ylim(0,2)\n",
    "sns.despine()\n",
    "plt.show()"
   ]
  },
  {
   "cell_type": "markdown",
   "metadata": {},
   "source": [
    "## Energy intensity since 1945"
   ]
  },
  {
   "cell_type": "code",
   "execution_count": null,
   "metadata": {},
   "outputs": [],
   "source": [
    "# Creating a DataFrame for energy intensity\n",
    "EnergyIntensity = FR_data.parse('Energy_Intensity').set_index('year')"
   ]
  },
  {
   "cell_type": "code",
   "execution_count": null,
   "metadata": {},
   "outputs": [],
   "source": [
    "# Interpolating the raw material intensity dataset\n",
    "EnergyIntensity = EnergyIntensity.interpolate(method='akima',\n",
    "                                         limit_direction='forward')"
   ]
  },
  {
   "cell_type": "code",
   "execution_count": null,
   "metadata": {},
   "outputs": [],
   "source": [
    "energies = ['fuel', 'electricity', 'natural gas']"
   ]
  },
  {
   "cell_type": "code",
   "execution_count": null,
   "metadata": {},
   "outputs": [],
   "source": [
    "fig, axes = plt.subplots(nrows=1, ncols=3,\n",
    "                         sharex=True, sharey=True,\n",
    "                         figsize=(16,4))\n",
    "\n",
    "for i, (ax, energy) in enumerate(zip(axes.flatten(), energies)):\n",
    "\n",
    "    ax.set_title(energy)\n",
    "    EnergyIntensity[(f\"{energy}, %\")].plot(ax=ax)\n",
    "    \n",
    "ax.set_xlim(1950,2020)\n",
    "ax.set_ylim(0,1)\n",
    "\n",
    "# Eventuellement: fig.tight_layout()\n",
    "\n",
    "sns.despine()\n",
    "plt.show()"
   ]
  },
  {
   "cell_type": "code",
   "execution_count": null,
   "metadata": {},
   "outputs": [],
   "source": [
    "fig, ax = plt.subplots(figsize=(8, 4))\n",
    "sns.lineplot(data = EnergyIntensity, \n",
    "             x = EnergyIntensity.index, \n",
    "             y = 'Total energy, GJ/t',\n",
    "             ax=ax)\n",
    "\n",
    "ax.set_xlim(1945,2020)\n",
    "ax.set_ylim(0,50)\n",
    "sns.despine()\n",
    "plt.show()"
   ]
  },
  {
   "cell_type": "markdown",
   "metadata": {},
   "source": [
    "## Use of raw materials in the production of flat glass"
   ]
  },
  {
   "cell_type": "code",
   "execution_count": null,
   "metadata": {},
   "outputs": [],
   "source": [
    "# Absolute use of raw materials for fat glass production:\n",
    "for mat in materials:\n",
    "    for country in BE_FR['Production [kt]'].columns:\n",
    "        BE_FR[(f\"{mat}, flat glass [kt]\", country)] = (\n",
    "            BE_FR[('Production [kt]', country)]\n",
    "            * MatIntensity[(f\"{mat}, kg/kg\")]\n",
    "        )"
   ]
  },
  {
   "cell_type": "code",
   "execution_count": null,
   "metadata": {},
   "outputs": [],
   "source": [
    "nrows = len(materials)\n",
    "ncols = len(countries)\n",
    "\n",
    "fig, axes = plt.subplots(nrows=nrows, ncols=ncols,\n",
    "                         sharex=True, sharey=True,\n",
    "                         figsize=(8,16))\n",
    "for row, material in enumerate(materials):\n",
    "    for col, country in enumerate(countries):\n",
    "        ax = ax=axes[row][col]\n",
    "        if row == 0:\n",
    "            ax.set_title(country)\n",
    "        if col == 0:\n",
    "            ax.set_ylabel(material)\n",
    "        BE_FR[(f\"{material}, flat glass [kt]\", country)].plot(ax=ax)\n",
    "        \n",
    "ax.set_xlim(1945,2020)\n",
    "\n",
    "# Eventuellement: fig.tight_layout()\n",
    "\n",
    "sns.despine()\n",
    "plt.show()"
   ]
  },
  {
   "cell_type": "code",
   "execution_count": null,
   "metadata": {},
   "outputs": [],
   "source": [
    "BE_FR['Total raw material use, flat glass [kt]'] = 0\n",
    "\n",
    "for material in materials:\n",
    "    BE_FR['Total raw material use, flat glass [kt]'] = (\n",
    "        BE_FR[(f\"{material}, flat glass [kt]\", country)] \n",
    "        + BE_FR['Total raw material use, flat glass [kt]']\n",
    "    )"
   ]
  },
  {
   "cell_type": "code",
   "execution_count": null,
   "metadata": {},
   "outputs": [],
   "source": [
    "fig, ax = plt.subplots(figsize=(8, 4))\n",
    "sns.lineplot(data = BE_FR, \n",
    "             x = BE_FR.index, \n",
    "             y = 'Total raw material use, flat glass [kt]',\n",
    "             ax=ax)\n",
    "\n",
    "ax.set_xlim(1945,2020)\n",
    "sns.despine()\n",
    "plt.show()"
   ]
  },
  {
   "cell_type": "code",
   "execution_count": null,
   "metadata": {},
   "outputs": [],
   "source": [
    "(BE_FR['Total raw material use, flat glass [kt]']\n",
    " .rolling(5, center = True)\n",
    " .mean()).plot(subplots=True, \n",
    "               grid=False, \n",
    "               figsize=(8, 4),\n",
    "               sharex=True, sharey=True,\n",
    "               title=\n",
    "               (\"Total raw material use, flat glass production, rolled, [kt]\")\n",
    "              )\n",
    "    \n",
    "ax.set_xlim(1945,2020)\n",
    "ax.set_ylim(ymin=0)\n",
    "sns.despine()\n",
    "plt.show()"
   ]
  },
  {
   "cell_type": "markdown",
   "metadata": {},
   "source": [
    "## Energy Use in the production of flat glass"
   ]
  },
  {
   "cell_type": "code",
   "execution_count": null,
   "metadata": {},
   "outputs": [],
   "source": [
    "# Absolute use of energy for flat glass production:\n",
    "for energy in energies:\n",
    "    for country in BE_FR['Production [kt]'].columns:\n",
    "        BE_FR[(f\"{energy}, flat glass [TJ]\", country)] = (\n",
    "            BE_FR[('Production [kt]', country)]\n",
    "            * EnergyIntensity[(f\"{energy}, GJ/t\")] \n",
    "        )"
   ]
  },
  {
   "cell_type": "code",
   "execution_count": null,
   "metadata": {},
   "outputs": [],
   "source": [
    "nrows = len(energies)\n",
    "ncols = len(countries)\n",
    "\n",
    "fig, axes = plt.subplots(nrows=nrows, ncols=ncols,\n",
    "                         sharex=True, sharey=True,\n",
    "                         figsize=(10,8))\n",
    "for row, energy in enumerate(energies):\n",
    "    for col, country in enumerate(countries):\n",
    "        ax = ax=axes[row][col]\n",
    "        if row == 0:\n",
    "            ax.set_title(country)\n",
    "        if col == 0:\n",
    "            ax.set_ylabel(energy)\n",
    "        BE_FR[(f\"{energy}, flat glass [TJ]\", country)].plot(ax=ax)\n",
    "        \n",
    "ax.set_xlim(1945,2020)\n",
    "ax.set_ylim(0,20000)\n",
    "\n",
    "sns.despine()\n",
    "plt.show()"
   ]
  },
  {
   "cell_type": "code",
   "execution_count": null,
   "metadata": {},
   "outputs": [],
   "source": [
    "BE_FR['Total energy use, flat glass [TJ]'] = 0\n",
    "\n",
    "for energy in energies:\n",
    "    BE_FR['Total energy use, flat glass [TJ]'] = (\n",
    "        BE_FR[(f\"{energy}, flat glass [TJ]\", country)] \n",
    "        + BE_FR['Total energy use, flat glass [TJ]']\n",
    "    )"
   ]
  },
  {
   "cell_type": "code",
   "execution_count": null,
   "metadata": {},
   "outputs": [],
   "source": [
    "fig, ax = plt.subplots(figsize=(8, 4))\n",
    "sns.lineplot(data = BE_FR, \n",
    "             x = BE_FR.index, \n",
    "             y = 'Total energy use, flat glass [TJ]',\n",
    "             ax=ax)\n",
    "\n",
    "ax.set_xlim(1945,2020)\n",
    "sns.despine()\n",
    "plt.show()"
   ]
  },
  {
   "cell_type": "code",
   "execution_count": null,
   "metadata": {},
   "outputs": [],
   "source": [
    "(BE_FR['Total energy use, flat glass [TJ]']\n",
    " .rolling(5, center = True)\n",
    " .mean()).plot(subplots=True, \n",
    "               grid=False, \n",
    "               figsize=(8, 4),\n",
    "               sharex=True, sharey=True,\n",
    "               title=\n",
    "               (\"Total energy use, flat glass production, rolled, [TG]\")\n",
    "              )\n",
    "    \n",
    "ax.set_xlim(1945,2020)\n",
    "ax.set_ylim(ymin=0)\n",
    "sns.despine()\n",
    "plt.show()"
   ]
  },
  {
   "cell_type": "markdown",
   "metadata": {},
   "source": [
    "## Use of raw materials in the production of architectural flat glass"
   ]
  },
  {
   "cell_type": "code",
   "execution_count": null,
   "metadata": {},
   "outputs": [],
   "source": [
    "# Absolute use of raw materials for architectural flat glass production:\n",
    "for mat in materials:\n",
    "    for country in BE_FR['Architectural glass production [kt]'].columns:\n",
    "        BE_FR[(f\"{mat}, architectural glass [kt]\", country)] = (\n",
    "            BE_FR[('Architectural glass production [kt]', country)]\n",
    "            * MatIntensity[(f\"{mat}, kg/kg\")]\n",
    "        )"
   ]
  },
  {
   "cell_type": "code",
   "execution_count": null,
   "metadata": {},
   "outputs": [],
   "source": [
    "nrows = len(materials)\n",
    "ncols = len(countries)\n",
    "\n",
    "fig, axes = plt.subplots(nrows=nrows, ncols=ncols,\n",
    "                         sharex=True, sharey=True,\n",
    "                         figsize=(8,16))\n",
    "for row, material in enumerate(materials):\n",
    "    for col, country in enumerate(countries):\n",
    "        ax = ax=axes[row][col]\n",
    "        if row == 0:\n",
    "            ax.set_title(country)\n",
    "        if col == 0:\n",
    "            ax.set_ylabel(material)\n",
    "        BE_FR[(f\"{material}, architectural glass [kt]\", country)].plot(ax=ax)\n",
    "        \n",
    "ax.set_xlim(1945,2020)\n",
    "\n",
    "sns.despine()\n",
    "plt.show()"
   ]
  },
  {
   "cell_type": "code",
   "execution_count": null,
   "metadata": {},
   "outputs": [],
   "source": [
    "nrows = len(materials)\n",
    "ncols = len(countries)\n",
    "\n",
    "fig, axes = plt.subplots(nrows=nrows, ncols=ncols,\n",
    "                         sharex=True, sharey=True,\n",
    "                         figsize=(8,16))\n",
    "for row, material in enumerate(materials):\n",
    "    for col, country in enumerate(countries):\n",
    "        ax = ax=axes[row][col]\n",
    "        if row == 0:\n",
    "            ax.set_title(country)\n",
    "        if col == 0:\n",
    "            ax.set_ylabel(material)\n",
    "        (BE_FR[(f\"{material}, architectural glass [kt]\", country)]\n",
    "         .rolling(5, center = True).mean()\n",
    "         .plot(ax=ax)\n",
    "        )\n",
    "        \n",
    "ax.set_xlim(1945,2020)\n",
    "\n",
    "sns.despine()\n",
    "plt.show()"
   ]
  },
  {
   "cell_type": "code",
   "execution_count": null,
   "metadata": {},
   "outputs": [],
   "source": [
    "BE_FR['Total raw material use, architectural glass [kt]'] = 0\n",
    "\n",
    "for material in materials:\n",
    "    BE_FR['Total raw material use, architectural glass [kt]'] = (\n",
    "        BE_FR[(f\"{material}, architectural glass [kt]\", country)] \n",
    "        + BE_FR['Total raw material use, architectural glass [kt]']\n",
    "    )"
   ]
  },
  {
   "cell_type": "code",
   "execution_count": null,
   "metadata": {},
   "outputs": [],
   "source": [
    "fig, ax = plt.subplots(figsize=(8, 4))\n",
    "sns.lineplot(data = BE_FR, \n",
    "             x = BE_FR.index, \n",
    "             y = 'Total raw material use, architectural glass [kt]',\n",
    "             ax=ax)\n",
    "\n",
    "ax.set_xlim(1945,2020)\n",
    "sns.despine()\n",
    "plt.show()"
   ]
  },
  {
   "cell_type": "code",
   "execution_count": null,
   "metadata": {},
   "outputs": [],
   "source": [
    "(BE_FR['Total raw material use, architectural glass [kt]']\n",
    " .rolling(5, center = True)\n",
    " .mean()).plot(subplots=True, \n",
    "               grid=False, \n",
    "               figsize=(8, 4),\n",
    "               sharex=True, sharey=True,\n",
    "               title=\n",
    "               (\"Total raw material use, architectural glass production, rolled, [kt]\")\n",
    "              )\n",
    "    \n",
    "ax.set_xlim(1945,2020)\n",
    "ax.set_ylim(ymin=0)\n",
    "sns.despine()\n",
    "plt.show()"
   ]
  },
  {
   "cell_type": "markdown",
   "metadata": {},
   "source": [
    "## Energy Use in the production of architectural flat glass"
   ]
  },
  {
   "cell_type": "code",
   "execution_count": null,
   "metadata": {},
   "outputs": [],
   "source": [
    "# Absolute use of energy for flat glass production:\n",
    "for energy in energies:\n",
    "    for country in BE_FR['Architectural glass production [kt]'].columns:\n",
    "        BE_FR[(f\"{energy}, architectural glass [TJ]\", country)] = (\n",
    "            BE_FR[('Architectural glass production [kt]', country)]\n",
    "            * EnergyIntensity[(f\"{energy}, GJ/t\")] \n",
    "        )"
   ]
  },
  {
   "cell_type": "code",
   "execution_count": null,
   "metadata": {},
   "outputs": [],
   "source": [
    "nrows = len(energies)\n",
    "ncols = len(countries)\n",
    "\n",
    "fig, axes = plt.subplots(nrows=nrows, ncols=ncols,\n",
    "                         sharex=True, sharey=True,\n",
    "                         figsize=(10,8))\n",
    "for row, energy in enumerate(energies):\n",
    "    for col, country in enumerate(countries):\n",
    "        ax = ax=axes[row][col]\n",
    "        if row == 0:\n",
    "            ax.set_title(country)\n",
    "        if col == 0:\n",
    "            ax.set_ylabel(energy)\n",
    "        BE_FR[(f\"{energy}, architectural glass [TJ]\", country)].plot(ax=ax)\n",
    "        \n",
    "ax.set_xlim(1945,2020)\n",
    "ax.set_ylim(0,15000)\n",
    "\n",
    "sns.despine()\n",
    "plt.show()"
   ]
  },
  {
   "cell_type": "code",
   "execution_count": null,
   "metadata": {},
   "outputs": [],
   "source": [
    "BE_FR['Total energy use, architectural glass [TJ]'] = 0\n",
    "\n",
    "for energy in energies:\n",
    "    BE_FR['Total energy use, architectural glass [TJ]'] = (\n",
    "        BE_FR[(f\"{energy}, architectural glass [TJ]\", country)] \n",
    "        + BE_FR['Total energy use, architectural glass [TJ]']\n",
    "    )"
   ]
  },
  {
   "cell_type": "code",
   "execution_count": null,
   "metadata": {},
   "outputs": [],
   "source": [
    "fig, ax = plt.subplots(figsize=(8, 4))\n",
    "sns.lineplot(data = BE_FR, \n",
    "             x = BE_FR.index, \n",
    "             y = 'Total energy use, architectural glass [TJ]',\n",
    "             ax=ax)\n",
    "\n",
    "ax.set_xlim(1945,2020)\n",
    "sns.despine()\n",
    "plt.show()"
   ]
  },
  {
   "cell_type": "code",
   "execution_count": null,
   "metadata": {},
   "outputs": [],
   "source": [
    "((BE_FR['Total energy use, architectural glass [TJ]']\n",
    " .rolling(5, center = True)\n",
    " .mean())\n",
    " .plot(subplots=True,\n",
    "       grid=False, \n",
    "       figsize=(8, 4),\n",
    "       sharex=True, sharey=True,\n",
    "       title=\n",
    "       (\"Total energy use, architectural glass production, rolled, [TG]\")\n",
    "      )\n",
    ")\n",
    "    \n",
    "ax.set_xlim(1945,2020)\n",
    "ax.set_ylim(ymin=0)\n",
    "sns.despine()\n",
    "plt.show()"
   ]
  },
  {
   "cell_type": "markdown",
   "metadata": {},
   "source": [
    "# The CO2 Emissions of the Flat Glass Iindustry"
   ]
  },
  {
   "cell_type": "markdown",
   "metadata": {},
   "source": [
    "## Carbon Intensity of the Flat Glass Production Process"
   ]
  },
  {
   "cell_type": "code",
   "execution_count": null,
   "metadata": {},
   "outputs": [],
   "source": [
    "# Creating a DataFrame only with CO2 emission data\n",
    "Emissions = FR_data.parse('emissions').set_index('year')\n",
    "\n",
    "CO2_Intensity = Emissions[['CO2 glass ind, kg/t']].copy()\n",
    "CO2_Intensity.rename(columns={'CO2 glass ind, kg/t':'CO2 [kg/t]'}, \n",
    "           inplace=True)\n",
    "\n",
    "CO2_Intensity.dropna()"
   ]
  },
  {
   "cell_type": "code",
   "execution_count": null,
   "metadata": {},
   "outputs": [],
   "source": [
    "CO2_Intensity['CO2 interpolated [kg/t]'] = (\n",
    "    CO2_Intensity['CO2 [kg/t]'].interpolate('pchip')\n",
    ")"
   ]
  },
  {
   "cell_type": "code",
   "execution_count": null,
   "metadata": {},
   "outputs": [],
   "source": [
    "fig, ax = plt.subplots(figsize=(8, 4))\n",
    "\n",
    "sns.lineplot(data=CO2_Intensity, palette=\"GnBu\")\n",
    "\n",
    "ax.scatter(x=CO2_Intensity.index, y=CO2_Intensity['CO2 [kg/t]'],\n",
    "           s=20)\n",
    "\n",
    "ax.set_xlim(1945,2020)\n",
    "ax.set_ylim(ymin=0)\n",
    "fig.suptitle(\"Carbon intensity of the French flat glass industry [kgCO2/t]\")\n",
    "sns.despine()\n",
    "plt.show()"
   ]
  },
  {
   "cell_type": "markdown",
   "metadata": {},
   "source": [
    "## Absolute CO2 Emissions since 1945\n"
   ]
  },
  {
   "cell_type": "code",
   "execution_count": null,
   "metadata": {},
   "outputs": [],
   "source": [
    "# Estimating the CO2 emission related to flat glass production\n",
    "for country in BE_FR['Production [kt]'].columns:\n",
    "    BE_FR[('CO2, flat glass [kt]', country)] = (\n",
    "        BE_FR[('Production [kt]', country)]\n",
    "        * CO2_Intensity['CO2 interpolated [kg/t]'] / 1000\n",
    "    )"
   ]
  },
  {
   "cell_type": "code",
   "execution_count": null,
   "metadata": {},
   "outputs": [],
   "source": [
    "# Estimating the CO2 emission related to architectural flat glass production\n",
    "for country in BE_FR['Architectural glass production [kt]'].columns:\n",
    "    BE_FR[('CO2, architectural glass [kt]', country)] = (\n",
    "        BE_FR[('Architectural glass production [kt]', country)]\n",
    "        * CO2_Intensity['CO2 interpolated [kg/t]'] / 1000\n",
    "    )"
   ]
  },
  {
   "cell_type": "code",
   "execution_count": null,
   "metadata": {},
   "outputs": [],
   "source": [
    "CO2_G = ['CO2, flat glass [kt]', 'CO2, architectural glass [kt]']"
   ]
  },
  {
   "cell_type": "code",
   "execution_count": null,
   "metadata": {},
   "outputs": [],
   "source": [
    "nrows = len(CO2_G)\n",
    "ncols = len(countries)\n",
    "\n",
    "fig, axes = plt.subplots(nrows=nrows, ncols=ncols,\n",
    "                         sharex=True, sharey=True,\n",
    "                         figsize=(8,8))\n",
    "for row, CO2 in enumerate(CO2_G):\n",
    "    for col, country in enumerate(countries):\n",
    "        ax=axes[row][col]\n",
    "        if row == 0:\n",
    "            ax.set_title(country)\n",
    "        if col == 0:\n",
    "            ax.set_ylabel(CO2)\n",
    "        BE_FR[(f\"{CO2}\", country)].plot(ax=ax)\n",
    "        \n",
    "ax.set_xlim(1945,2020)\n",
    "\n",
    "# Eventuellement: fig.tight_layout()\n",
    "\n",
    "sns.despine()\n",
    "plt.show()"
   ]
  },
  {
   "cell_type": "code",
   "execution_count": null,
   "metadata": {},
   "outputs": [],
   "source": [
    "#Rolling and plotting the CO2 emission related to architectural glass prod\n",
    "with sns.plotting_context(\"notebook\"):\n",
    "    #Rolling flat glass production according to a 5-year mean\n",
    "    (BE_FR['CO2, architectural glass [kt]']\n",
    "     .interpolate(method=\"linear\", limit_area='inside')\n",
    "     .rolling(5, center = True)\n",
    "     .mean()).plot(subplots=True, \n",
    "                   grid=False,\n",
    "                   layout=(1, 2), \n",
    "                   figsize=(16, 8),\n",
    "                   sharex=True, sharey=True,\n",
    "                   title=\n",
    "                   (\"CO2 emission, architectural glass prod, rolled, [kt]\")\n",
    "                  )\n",
    "    \n",
    "    ax.set_xlim(1945,2015)\n",
    "    ax.set_ylim(ymin=0)\n",
    "    sns.despine()\n",
    "    plt.show()"
   ]
  },
  {
   "cell_type": "markdown",
   "metadata": {},
   "source": [
    "## Base 100 Analysis"
   ]
  },
  {
   "cell_type": "code",
   "execution_count": null,
   "metadata": {},
   "outputs": [],
   "source": [
    "# Base 100 = 1980\n",
    "FGProd_diff = (100 * BE_FR['Production [kt]'] \n",
    "               / BE_FR['Production [kt]'].loc[1980]\n",
    "              )\n",
    "\n",
    "CO2Intensity_diff = 100 * CO2_Intensity / CO2_Intensity.loc[1980]\n",
    "\n",
    "CO2ABS_diff = (100 * BE_FR['CO2, flat glass [kt]'] \n",
    "               / BE_FR['CO2, flat glass [kt]'].loc[1980]\n",
    "              )"
   ]
  },
  {
   "cell_type": "code",
   "execution_count": null,
   "metadata": {},
   "outputs": [],
   "source": [
    "# Plotting production, carbon intensity, CO2 absolute emissions for France\n",
    "fig, ax = plt.subplots(figsize=(8, 4))\n",
    "sns.lineplot(data = FGProd_diff, \n",
    "             x = FGProd_diff.index, \n",
    "             y = 'France',\n",
    "             ax=ax)\n",
    "\n",
    "ax.plot(CO2Intensity_diff.index, \n",
    "        CO2Intensity_diff['CO2 interpolated [kg/t]'])\n",
    "ax.plot(CO2ABS_diff.index, \n",
    "        CO2ABS_diff['France'])\n",
    "\n",
    "ax.plot([1980, 2015], [100, 100], '--')\n",
    "\n",
    "ax.set_xlim(1980,2015)\n",
    "ax.set_ylim(ymin=0)\n",
    "sns.despine()\n",
    "plt.show()"
   ]
  },
  {
   "cell_type": "code",
   "execution_count": null,
   "metadata": {},
   "outputs": [],
   "source": [
    "# Base 100 = 1980, with a 5-year rolling\n",
    "FGProd_diff_roll = (100 * BE_FR['Production [kt]']\n",
    "                    .rolling(5, center=True).mean() \n",
    "                    / BE_FR['Production [kt]']\n",
    "                    .rolling(5, center = True).mean().loc[1980])\n",
    "\n",
    "CO2ABS_diff_roll = (100 * (BE_FR['CO2, flat glass [kt]']\n",
    "                           .interpolate(method=\"linear\", limit_area='inside')\n",
    "                           .rolling(5, center = True).mean()) \n",
    "                    / (BE_FR['CO2, flat glass [kt]']\n",
    "                       .interpolate(method=\"linear\", limit_area='inside')\n",
    "                       .rolling(5, center=True).mean().loc[1980])\n",
    "                   )"
   ]
  },
  {
   "cell_type": "code",
   "execution_count": null,
   "metadata": {},
   "outputs": [],
   "source": [
    "# Plotting production, carbon intensity, CO2 absolute emissions for France\n",
    "fig, ax = plt.subplots(figsize=(8, 4))\n",
    "\n",
    "sns.lineplot(data=FGProd_diff_roll,\n",
    "             x=FGProd_diff_roll.index,\n",
    "             y='France',\n",
    "             ax=ax)\n",
    "\n",
    "ax.plot(CO2Intensity_diff.index, \n",
    "        CO2Intensity_diff['CO2 interpolated [kg/t]'])\n",
    "\n",
    "ax.plot(CO2ABS_diff_roll.index, \n",
    "        CO2ABS_diff_roll['France'])\n",
    "\n",
    "ax.plot([1980, 2015], [100, 100], '--', c='grey', linewidth=0.5)\n",
    "\n",
    "ax.set_xlim(1980,2015)\n",
    "ax.set_ylim(ymin=0)\n",
    "sns.despine()\n",
    "plt.show()"
   ]
  },
  {
   "cell_type": "markdown",
   "metadata": {},
   "source": [
    "# MEFA of Insulating Glass Units in France and Belgium"
   ]
  },
  {
   "cell_type": "markdown",
   "metadata": {},
   "source": [
    "## Creating a Dataframe for the Flows of IGU"
   ]
  },
  {
   "cell_type": "code",
   "execution_count": null,
   "metadata": {},
   "outputs": [],
   "source": [
    "# Creating a new DataFrame for Belgian and French flat glass production\n",
    "BE_FR_IGU = (\n",
    "    pd.concat([FR_Prod['IGU, kt'], BE_Prod['IGU, kt'],\n",
    "               FR_Prod['IGU, \"000 m²'], BE_Prod['IGU, \"000 m²'], \n",
    "               FR_Imp['IGU, kt'], BE_Imp['IGU, kt'], \n",
    "               FR_Imp['IGU, \"000 m²'], BE_Imp['IGU, \"000 m²'],\n",
    "               FR_Exp['IGU, kt'], BE_Exp['IGU, kt'], \n",
    "               FR_Exp['IGU, \"000 m²'], BE_Exp['IGU, \"000 m²']],\n",
    "              axis=1, \n",
    "              keys=[('Production [kt]', 'France'), \n",
    "                    ('Production [kt]', 'Belgium'),\n",
    "                    ('Production [000 m²]', 'France'), \n",
    "                    ('Production [000 m²]', 'Belgium'),\n",
    "                    ('Import [kt]', 'France'), \n",
    "                    ('Import [kt]', 'Belgium'),\n",
    "                    ('Import [000 m²]', 'France'), \n",
    "                    ('Import [000 m²]', 'Belgium'),\n",
    "                    ('Export [kt]', 'France'), \n",
    "                    ('Export [kt]', 'Belgium'),\n",
    "                    ('Export [000 m²]', 'France'), \n",
    "                    ('Export [000 m²]', 'Belgium')],\n",
    "              names=['Info', 'Country'])).stack(level=- 1, \n",
    "                                                dropna=False)\n",
    "\n",
    "BE_FR_IGU = BE_FR_IGU.unstack()"
   ]
  },
  {
   "cell_type": "code",
   "execution_count": null,
   "metadata": {
    "scrolled": false
   },
   "outputs": [],
   "source": [
    "BE_FR_IGU"
   ]
  },
  {
   "cell_type": "markdown",
   "metadata": {},
   "source": [
    "## Production of Insulating Glass Units"
   ]
  },
  {
   "cell_type": "code",
   "execution_count": null,
   "metadata": {},
   "outputs": [],
   "source": [
    "#Plotting the Frnech and Belgian IGU production since 1945\n",
    "BE_FR_IGU['Production [kt]'].plot(subplots=True, \n",
    "                                  grid=False,\n",
    "                                  layout=(1, 2), \n",
    "                                  figsize=(16, 8),\n",
    "                                  sharex=True, sharey=True,\n",
    "                                  title=\"IGU production, [kt]\")\n",
    "ax.set_xlim(1945,2015)\n",
    "ax.set_ylim(ymin=0)\n",
    "sns.despine()\n",
    "plt.show()"
   ]
  },
  {
   "cell_type": "code",
   "execution_count": null,
   "metadata": {},
   "outputs": [],
   "source": [
    "# Plotting the interpolated and 5-y. rolled French and Belgian IGU production\n",
    "with sns.plotting_context(\"notebook\"):\n",
    "    # Linear interpolation for flat glass production\n",
    "    #Rolling flat glass production according to a 5-year mean\n",
    "    (BE_FR_IGU['Production [kt]']\n",
    "     .interpolate(method=\"pchip\", \n",
    "                  limit_area='inside')\n",
    "     .rolling(5, center = True)\n",
    "     .mean()).plot(subplots=True, \n",
    "                   grid=False,\n",
    "                   layout=(1, 2), \n",
    "                   figsize=(16, 8),\n",
    "                   sharex=True, sharey=True,\n",
    "                   title=\"IGU production, rolled, [kt]\")\n",
    "    \n",
    "    ax.set_xlim(1945,2015)\n",
    "    ax.set_ylim(ymin=0)\n",
    "    sns.despine()\n",
    "    plt.show()"
   ]
  },
  {
   "cell_type": "code",
   "execution_count": null,
   "metadata": {},
   "outputs": [],
   "source": [
    "# Interpolating and rolling of the French and Belgian IGU production\n",
    "BE_FR_IGU['Production [kt]'] = (BE_FR_IGU['Production [kt]']\n",
    "                                .interpolate(method=\"pchip\", \n",
    "                                             limit_area='inside')\n",
    "                               )\n",
    "\n",
    "BE_FR_IGU['Production [000 m²]'] = (BE_FR_IGU['Production [000 m²]']\n",
    "                                    .interpolate(method=\"pchip\", \n",
    "                                                 limit_area='inside')\n",
    "                                   )"
   ]
  },
  {
   "cell_type": "markdown",
   "metadata": {},
   "source": [
    "## Consumption of Insulating Glass Units"
   ]
  },
  {
   "cell_type": "code",
   "execution_count": null,
   "metadata": {},
   "outputs": [],
   "source": [
    "ratios = ['Import', 'Export']\n",
    "countries = ['Belgium', 'France']"
   ]
  },
  {
   "cell_type": "code",
   "execution_count": null,
   "metadata": {},
   "outputs": [],
   "source": [
    "nrows = len(ratios)\n",
    "ncols = len(countries)\n",
    "\n",
    "fig, axes = plt.subplots(nrows=nrows, ncols=ncols,\n",
    "                         sharex=True, sharey=True,\n",
    "                         figsize=(16,9))\n",
    "\n",
    "for row, ratio in enumerate(ratios):\n",
    "    for col, country in enumerate(countries):\n",
    "        ax=axes[row][col]\n",
    "        if row == 0:\n",
    "            ax.set_title(country)\n",
    "        if col == 0:\n",
    "            ax.set_ylabel(ratio)\n",
    "        BE_FR_IGU[(f\"{ratio} [kt]\", country)].plot(ax=ax)\n",
    "        \n",
    "ax.set_xlim(1945,2020)\n",
    "\n",
    "fig.suptitle('Import and export of IGU, [kt]')\n",
    "sns.despine()\n",
    "plt.show()"
   ]
  },
  {
   "cell_type": "code",
   "execution_count": null,
   "metadata": {},
   "outputs": [],
   "source": [
    "for ratio in ratios:\n",
    "        BE_FR_IGU[f\"{ratio} [kt]\"] = (BE_FR_IGU[f\"{ratio} [kt]\"]\n",
    "                                      .interpolate(method='linear', \n",
    "                                                   limit_area='inside')\n",
    "                                      )\n",
    "\n",
    "        BE_FR_IGU[f\"{ratio} [000 m²]\"] = (BE_FR_IGU[f\"{ratio} [000 m²]\"]\n",
    "                                          .interpolate(method='linear', \n",
    "                                                       limit_area='inside')\n",
    "                                          )"
   ]
  },
  {
   "cell_type": "code",
   "execution_count": null,
   "metadata": {},
   "outputs": [],
   "source": [
    "nrows = len(ratios)\n",
    "ncols = len(countries)\n",
    "\n",
    "fig, axes = plt.subplots(nrows=nrows, ncols=ncols,\n",
    "                         sharex=True, sharey=True,\n",
    "                         figsize=(16,9))\n",
    "\n",
    "for row, ratio in enumerate(ratios):\n",
    "    for col, country in enumerate(countries):\n",
    "        ax=axes[row][col]\n",
    "        if row == 0:\n",
    "            ax.set_title(country)\n",
    "        if col == 0:\n",
    "            ax.set_ylabel(ratio)\n",
    "        (BE_FR_IGU[(f\"{ratio} [kt]\", country)]\n",
    "         .rolling(5, center=True).mean()\n",
    "         .plot(ax=ax)\n",
    "        )\n",
    "        \n",
    "ax.set_xlim(1945,2020)\n",
    "fig.suptitle('Import and export of IGU, rolled [kt]')\n",
    "sns.despine()\n",
    "plt.show()"
   ]
  },
  {
   "cell_type": "code",
   "execution_count": null,
   "metadata": {},
   "outputs": [],
   "source": [
    "BE_FR_IGU = BE_FR_IGU.stack()\n",
    "\n",
    "BE_FR_IGU['Consumption [kt]'] = (BE_FR_IGU['Production [kt]']\n",
    "                                 + BE_FR_IGU['Import [kt]']\n",
    "                                 - BE_FR_IGU['Export [kt]']\n",
    "                                )\n",
    "\n",
    "BE_FR_IGU['Consumption [000 m²]'] = (BE_FR_IGU['Production [000 m²]']\n",
    "                                     + BE_FR_IGU['Import [000 m²]']\n",
    "                                     - BE_FR_IGU['Export [000 m²]']\n",
    "                                    )\n",
    "\n",
    "BE_FR_IGU = BE_FR_IGU.unstack()"
   ]
  },
  {
   "cell_type": "code",
   "execution_count": null,
   "metadata": {},
   "outputs": [],
   "source": [
    "#Plotting the Frnech and Belgian IGU consumption since 1945\n",
    "BE_FR_IGU['Consumption [kt]'].plot(subplots=True,\n",
    "                                   grid=False,\n",
    "                                   layout=(1, 2), \n",
    "                                   figsize=(16, 8),\n",
    "                                   sharex=True, sharey=True,\n",
    "                                   title=\"IGU consumption, [kt]\")\n",
    "ax.set_xlim(1945,2015)\n",
    "ax.set_ylim(ymin=0)\n",
    "sns.despine()\n",
    "plt.show()"
   ]
  },
  {
   "cell_type": "code",
   "execution_count": null,
   "metadata": {},
   "outputs": [],
   "source": [
    "# Estimating the IGU consumption per capita\n",
    "for country in BE_FR_IGU['Consumption [kt]'].columns:\n",
    "    BE_FR_IGU[('IGU consumption [m²/cap]', country)] = (\n",
    "        BE_FR_IGU[('Consumption [000 m²]', country)]\n",
    "        / BE_FR_Pop[('Population [x1000]', country)])"
   ]
  },
  {
   "cell_type": "code",
   "execution_count": null,
   "metadata": {},
   "outputs": [],
   "source": [
    "# Plotting the French and Belgian IGU consumption per capita\n",
    "(BE_FR_IGU['IGU consumption [m²/cap]']\n",
    " .plot(subplots=True,\n",
    "       grid=False,\n",
    "       layout=(1, 2), \n",
    "       figsize=(16, 8),\n",
    "       sharex=True, sharey=True,\n",
    "       title=\"Square meters of IGU used per capita\")\n",
    ")\n",
    "ax.set_xlim(1945,2015)\n",
    "ax.set_ylim(ymin=0)\n",
    "sns.despine()\n",
    "plt.show()"
   ]
  },
  {
   "cell_type": "code",
   "execution_count": null,
   "metadata": {},
   "outputs": [],
   "source": [
    "# Plotting the French and Belgian IGU consumption per capita\n",
    "(BE_FR_IGU['IGU consumption [m²/cap]']\n",
    " .rolling(5, center=True)\n",
    " .mean()\n",
    " .plot(subplots=True,\n",
    "       grid=False,\n",
    "       layout=(1, 2), \n",
    "       figsize=(16, 8),\n",
    "       sharex=True, sharey=True,\n",
    "       title=\"Square meters of IGU used per capita per year\")\n",
    ")\n",
    "\n",
    "ax.set_xlim(1945,2015)\n",
    "ax.set_ylim(ymin=0)\n",
    "sns.despine()\n",
    "plt.show()"
   ]
  },
  {
   "cell_type": "markdown",
   "metadata": {},
   "source": [
    "## Raw Material Use for IGU Production"
   ]
  },
  {
   "cell_type": "code",
   "execution_count": null,
   "metadata": {},
   "outputs": [],
   "source": [
    "# Absolute use of raw materials for IGU production:\n",
    "for mat in materials:\n",
    "    for country in BE_FR_IGU['Production [kt]'].columns:\n",
    "        BE_FR_IGU[(f\"{mat}, production [kt]\", country)] = (\n",
    "            BE_FR_IGU[('Production [kt]', country)]\n",
    "            * MatIntensity[(f\"{mat}, kg/kg\")]\n",
    "        )"
   ]
  },
  {
   "cell_type": "code",
   "execution_count": null,
   "metadata": {},
   "outputs": [],
   "source": [
    "nrows = len(materials)\n",
    "ncols = len(countries)\n",
    "\n",
    "fig, axes = plt.subplots(nrows=nrows, ncols=ncols,\n",
    "                         sharex=True, sharey=True,\n",
    "                         figsize=(8,16))\n",
    "\n",
    "for row, material in enumerate(materials):\n",
    "    for col, country in enumerate(countries):\n",
    "        ax = ax=axes[row][col]\n",
    "        if row == 0:\n",
    "            ax.set_title(country)\n",
    "        if col == 0:\n",
    "            ax.set_ylabel(material)\n",
    "        BE_FR_IGU[(f\"{material}, production [kt]\", country)].plot(ax=ax)\n",
    "        \n",
    "ax.set_xlim(1945,2020)\n",
    "\n",
    "sns.despine()\n",
    "plt.show()"
   ]
  },
  {
   "cell_type": "code",
   "execution_count": null,
   "metadata": {},
   "outputs": [],
   "source": [
    "BE_FR_IGU['Total raw material use, production [kt]'] = 0\n",
    "\n",
    "for material in materials:\n",
    "    BE_FR_IGU['Total raw material use, production [kt]'] = (\n",
    "        BE_FR_IGU[(f\"{material}, production [kt]\", country)] \n",
    "        + BE_FR_IGU['Total raw material use, production [kt]']\n",
    "    )"
   ]
  },
  {
   "cell_type": "code",
   "execution_count": null,
   "metadata": {},
   "outputs": [],
   "source": [
    "fig, ax = plt.subplots(figsize=(8, 4))\n",
    "sns.lineplot(data = BE_FR_IGU, \n",
    "             x = BE_FR_IGU.index, \n",
    "             y = 'Total raw material use, production [kt]',\n",
    "             ax=ax)\n",
    "\n",
    "ax.set_xlim(1945,2020)\n",
    "sns.despine()\n",
    "plt.show()"
   ]
  },
  {
   "cell_type": "code",
   "execution_count": null,
   "metadata": {},
   "outputs": [],
   "source": [
    "(BE_FR_IGU['Total raw material use, production [kt]']\n",
    " .rolling(5, center = True)\n",
    " .mean()).plot(subplots=True, \n",
    "               grid=False, \n",
    "               figsize=(8, 4),\n",
    "               sharex=True, sharey=True,\n",
    "               title=\n",
    "               (\"Total raw material use, production, rolled [kt]\")\n",
    "              )\n",
    "    \n",
    "ax.set_xlim(1945,2020)\n",
    "ax.set_ylim(ymin=0)\n",
    "sns.despine()\n",
    "plt.show()"
   ]
  },
  {
   "cell_type": "markdown",
   "metadata": {},
   "source": [
    "## Energy use for IGU Production"
   ]
  },
  {
   "cell_type": "code",
   "execution_count": null,
   "metadata": {},
   "outputs": [],
   "source": [
    "# Absolute use of energy for flat glass production:\n",
    "for energy in energies:\n",
    "    for country in BE_FR_IGU['Production [kt]'].columns:\n",
    "        BE_FR_IGU[(f\"{energy}, production [TJ]\", country)] = (\n",
    "            BE_FR_IGU[('Production [kt]', country)]\n",
    "            * EnergyIntensity[(f\"{energy}, GJ/t\")] \n",
    "        )"
   ]
  },
  {
   "cell_type": "code",
   "execution_count": null,
   "metadata": {},
   "outputs": [],
   "source": [
    "nrows = len(energies)\n",
    "ncols = len(countries)\n",
    "\n",
    "fig, axes = plt.subplots(nrows=nrows, ncols=ncols,\n",
    "                         sharex=True, sharey=True,\n",
    "                         figsize=(10,8))\n",
    "for row, energy in enumerate(energies):\n",
    "    for col, country in enumerate(countries):\n",
    "        ax = ax=axes[row][col]\n",
    "        if row == 0:\n",
    "            ax.set_title(country)\n",
    "        if col == 0:\n",
    "            ax.set_ylabel(energy)\n",
    "        BE_FR_IGU[(f\"{energy}, production [TJ]\", country)].plot(ax=ax)\n",
    "        \n",
    "ax.set_xlim(1945,2020)\n",
    "ax.set_ylim(ymin=0)\n",
    "\n",
    "sns.despine()\n",
    "plt.show()"
   ]
  },
  {
   "cell_type": "code",
   "execution_count": null,
   "metadata": {},
   "outputs": [],
   "source": [
    "BE_FR_IGU['Total energy use, production [TJ]'] = 0\n",
    "\n",
    "for energy in energies:\n",
    "    BE_FR_IGU['Total energy use, production [TJ]'] = (\n",
    "        BE_FR_IGU[(f\"{energy}, production [TJ]\", country)] \n",
    "        + BE_FR_IGU['Total energy use, production [TJ]']\n",
    "    )"
   ]
  },
  {
   "cell_type": "code",
   "execution_count": null,
   "metadata": {},
   "outputs": [],
   "source": [
    "fig, ax = plt.subplots(figsize=(8, 4))\n",
    "sns.lineplot(data = BE_FR_IGU, \n",
    "             x = BE_FR_IGU.index, \n",
    "             y = 'Total energy use, production [TJ]',\n",
    "             ax=ax)\n",
    "\n",
    "ax.set_xlim(1945,2020)\n",
    "sns.despine()\n",
    "plt.show()"
   ]
  },
  {
   "cell_type": "code",
   "execution_count": null,
   "metadata": {},
   "outputs": [],
   "source": [
    "(BE_FR_IGU['Total energy use, production [TJ]']\n",
    " .rolling(5, center = True)\n",
    " .mean()).plot(subplots=True, \n",
    "               grid=False, \n",
    "               figsize=(8, 4),\n",
    "               sharex=True, sharey=True,\n",
    "               title=\n",
    "               (\"Total energy use, IGU production, rolled, [TG]\")\n",
    "              )\n",
    "    \n",
    "ax.set_xlim(1945,2020)\n",
    "ax.set_ylim(ymin=0)\n",
    "sns.despine()\n",
    "plt.show()"
   ]
  },
  {
   "cell_type": "markdown",
   "metadata": {},
   "source": [
    "## CO2 Emissions Relating to IGU Production and Consumption in France and Belgium"
   ]
  },
  {
   "cell_type": "code",
   "execution_count": null,
   "metadata": {},
   "outputs": [],
   "source": [
    "# Estimating the CO2 emission related to IGU production\n",
    "for country in BE_FR_IGU['Production [kt]'].columns:\n",
    "    BE_FR_IGU[('CO2, IGU production [ktCO2]', country)] = (\n",
    "        BE_FR_IGU[('Production [kt]', country)]\n",
    "        * CO2_Intensity['CO2 interpolated [kg/t]'] / 1000\n",
    "    )"
   ]
  },
  {
   "cell_type": "code",
   "execution_count": null,
   "metadata": {},
   "outputs": [],
   "source": [
    "# Estimating the CO2 emission related to IGU consumption\n",
    "for country in BE_FR['Consumption [kt]'].columns:\n",
    "    BE_FR_IGU[('CO2, IGU consumption [ktCO2]', country)] = (\n",
    "        BE_FR_IGU[('Consumption [kt]', country)]\n",
    "        * CO2_Intensity['CO2 interpolated [kg/t]'] / 1000\n",
    "    )"
   ]
  },
  {
   "cell_type": "code",
   "execution_count": null,
   "metadata": {},
   "outputs": [],
   "source": [
    "BE_FR_IGU"
   ]
  },
  {
   "cell_type": "code",
   "execution_count": null,
   "metadata": {},
   "outputs": [],
   "source": [
    "CO2_IGU = ['production', 'consumption']"
   ]
  },
  {
   "cell_type": "code",
   "execution_count": null,
   "metadata": {},
   "outputs": [],
   "source": [
    "nrows = len(CO2_IGU)\n",
    "\n",
    "fig, axes = plt.subplots(nrows=nrows, ncols=ncols,\n",
    "                         sharex=True, sharey=True,\n",
    "                         figsize=(8,8))\n",
    "\n",
    "for row, CO2 in enumerate(CO2_IGU):\n",
    "    for col, country in enumerate(countries):\n",
    "        ax=axes[row][col]\n",
    "        if row == 0:\n",
    "            ax.set_title(country)\n",
    "        if col == 0:\n",
    "            ax.set_ylabel(CO2)\n",
    "        BE_FR_IGU[(f\"CO2, IGU {CO2} [ktCO2]\", country)].plot(ax=ax)\n",
    "        \n",
    "ax.set_xlim(1945,2020)\n",
    "\n",
    "sns.despine()\n",
    "plt.show()"
   ]
  },
  {
   "cell_type": "code",
   "execution_count": null,
   "metadata": {},
   "outputs": [],
   "source": [
    "nrows = len(CO2_IGU)\n",
    "\n",
    "fig, axes = plt.subplots(nrows=nrows, ncols=ncols,\n",
    "                         sharex=True, sharey=True,\n",
    "                         figsize=(8,8))\n",
    "\n",
    "for row, CO2 in enumerate(CO2_IGU):\n",
    "    for col, country in enumerate(countries):\n",
    "        ax=axes[row][col]\n",
    "        if row == 0:\n",
    "            ax.set_title(country)\n",
    "        if col == 0:\n",
    "            ax.set_ylabel(CO2)\n",
    "        (BE_FR_IGU[(f\"CO2, IGU {CO2} [ktCO2]\", country)]\n",
    "         .rolling(5, center=True).mean().\n",
    "         plot(ax=ax)\n",
    "        )\n",
    "        \n",
    "ax.set_xlim(1945,2020)\n",
    "\n",
    "sns.despine()\n",
    "plt.show()"
   ]
  },
  {
   "cell_type": "markdown",
   "metadata": {},
   "source": [
    "## CO2 Emissions: Base 100 Analysis"
   ]
  },
  {
   "cell_type": "code",
   "execution_count": null,
   "metadata": {},
   "outputs": [],
   "source": [
    "# Base 100 = 1980\n",
    "IGUProd_diff = (100 * BE_FR_IGU['Production [kt]']\n",
    "                / BE_FR_IGU['Production [kt]'].loc[1980]\n",
    "               )\n",
    "\n",
    "CO2Intensity_diff = 100 * CO2_Intensity / CO2_Intensity.loc[1980]\n",
    "\n",
    "CO2ABS_IGUdiff = (100 * BE_FR_IGU['CO2, IGU production [ktCO2]'] \n",
    "                  / BE_FR_IGU['CO2, IGU production [ktCO2]'].loc[1980]\n",
    "                 )\n",
    "\n",
    "# Plotting production, carbon intensity, CO2 absolute emissions for France\n",
    "fig, ax = plt.subplots(figsize=(8, 4))\n",
    "sns.lineplot(data=IGUProd_diff, \n",
    "             x=IGUProd_diff.index, \n",
    "             y='France',\n",
    "             ax=ax)\n",
    "\n",
    "ax.plot(CO2Intensity_diff.index, \n",
    "        CO2Intensity_diff['CO2 interpolated [kg/t]'])\n",
    "ax.plot(CO2ABS_IGUdiff.index, \n",
    "        CO2ABS_IGUdiff['France'])\n",
    "\n",
    "ax.plot([1980, 2015], [100, 100], '--')\n",
    "\n",
    "ax.set_xlim(1980,2015)\n",
    "ax.set_ylim(ymin=0)\n",
    "sns.despine()\n",
    "plt.show()"
   ]
  },
  {
   "cell_type": "code",
   "execution_count": null,
   "metadata": {},
   "outputs": [],
   "source": [
    "# Base 100 = 1980\n",
    "IGUProd_diff = (100 * BE_FR_IGU['Production [kt]']\n",
    "                .rolling(5, center=True).mean()\n",
    "                / BE_FR_IGU['Production [kt]']\n",
    "                .rolling(5, center=True).mean()\n",
    "                .loc[1980]\n",
    "               )\n",
    "\n",
    "CO2Intensity_diff = 100 * CO2_Intensity / CO2_Intensity.loc[1980]\n",
    "\n",
    "CO2ABS_IGUdiff = (100 * BE_FR_IGU['CO2, IGU production [ktCO2]']\n",
    "                  .rolling(5, center=True).mean() \n",
    "                  / BE_FR_IGU['CO2, IGU production [ktCO2]']\n",
    "                  .rolling(5, center=True).mean()\n",
    "                  .loc[1980]\n",
    "                 )\n",
    "\n",
    "# Plotting production, carbon intensity, CO2 absolute emissions for France\n",
    "fig, ax = plt.subplots(figsize=(8, 4))\n",
    "sns.lineplot(data=IGUProd_diff, \n",
    "             x=IGUProd_diff.index, \n",
    "             y='France',\n",
    "             ax=ax)\n",
    "\n",
    "ax.plot(CO2Intensity_diff.index, \n",
    "        CO2Intensity_diff['CO2 interpolated [kg/t]'])\n",
    "ax.plot(CO2ABS_IGUdiff.index, \n",
    "        CO2ABS_IGUdiff['France'])\n",
    "\n",
    "ax.plot([1980, 2015], [100, 100], '--')\n",
    "\n",
    "ax.set_xlim(1980,2015)\n",
    "ax.set_ylim(ymin=0)\n",
    "sns.despine()\n",
    "plt.show()"
   ]
  }
 ],
 "metadata": {
  "colab": {
   "name": "RetrospectiveMFA_Glass Industry.ipynb",
   "provenance": []
  },
  "kernelspec": {
   "display_name": "Python 3",
   "language": "python",
   "name": "python3"
  },
  "language_info": {
   "codemirror_mode": {
    "name": "ipython",
    "version": 3
   },
   "file_extension": ".py",
   "mimetype": "text/x-python",
   "name": "python",
   "nbconvert_exporter": "python",
   "pygments_lexer": "ipython3",
   "version": "3.6.10"
  },
  "toc": {
   "base_numbering": 1,
   "nav_menu": {
    "height": "290px",
    "width": "483px"
   },
   "number_sections": true,
   "sideBar": true,
   "skip_h1_title": false,
   "title_cell": "Table of Contents",
   "title_sidebar": "Contents",
   "toc_cell": false,
   "toc_position": {
    "height": "calc(100% - 180px)",
    "left": "10px",
    "top": "150px",
    "width": "185px"
   },
   "toc_section_display": true,
   "toc_window_display": true
  },
  "varInspector": {
   "cols": {
    "lenName": 16,
    "lenType": 16,
    "lenVar": 40
   },
   "kernels_config": {
    "python": {
     "delete_cmd_postfix": "",
     "delete_cmd_prefix": "del ",
     "library": "var_list.py",
     "varRefreshCmd": "print(var_dic_list())"
    },
    "r": {
     "delete_cmd_postfix": ") ",
     "delete_cmd_prefix": "rm(",
     "library": "var_list.r",
     "varRefreshCmd": "cat(var_dic_list()) "
    }
   },
   "types_to_exclude": [
    "module",
    "function",
    "builtin_function_or_method",
    "instance",
    "_Feature"
   ],
   "window_display": false
  }
 },
 "nbformat": 4,
 "nbformat_minor": 1
}
