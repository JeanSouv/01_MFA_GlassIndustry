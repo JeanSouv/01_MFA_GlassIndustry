{
 "cells": [
  {
   "cell_type": "code",
   "execution_count": null,
   "metadata": {
    "colab": {},
    "colab_type": "code",
    "id": "GukJ0-ujryTQ"
   },
   "outputs": [],
   "source": [
    "import os\n",
    "import re\n",
    "\n",
    "import pathlib\n",
    "from pathlib import Path\n",
    "\n",
    "import sqlite3\n",
    "\n",
    "import pandas as pd\n",
    "import numpy as np\n",
    "\n",
    "import matplotlib as mpl\n",
    "import matplotlib.pyplot as plt\n",
    "\n",
    "import seaborn as sns"
   ]
  },
  {
   "cell_type": "code",
   "execution_count": null,
   "metadata": {},
   "outputs": [],
   "source": [
    "%matplotlib inline"
   ]
  },
  {
   "cell_type": "code",
   "execution_count": null,
   "metadata": {},
   "outputs": [],
   "source": [
    "mpl.rcParams['figure.figsize'] = (16, 9)"
   ]
  },
  {
   "cell_type": "code",
   "execution_count": null,
   "metadata": {},
   "outputs": [],
   "source": [
    "ROOT_DIR = \"RawData\""
   ]
  },
  {
   "cell_type": "code",
   "execution_count": null,
   "metadata": {},
   "outputs": [],
   "source": [
    "sns.set_style(\"ticks\")\n",
    "sns.color_palette(\"colorblind\")\n",
    "sns.set_context(\"notebook\", font_scale=1.5)"
   ]
  },
  {
   "cell_type": "markdown",
   "metadata": {},
   "source": [
    "# 1. Upload Datasets"
   ]
  },
  {
   "cell_type": "code",
   "execution_count": null,
   "metadata": {},
   "outputs": [],
   "source": [
    "def get_data(filename, directory=ROOT_DIR, force_download=False):\n",
    "    if force_download or not os.path.exists(filename):\n",
    "        data = pd.ExcelFile(os.path.join(directory, filename))\n",
    "    return data"
   ]
  },
  {
   "cell_type": "code",
   "execution_count": null,
   "metadata": {},
   "outputs": [],
   "source": [
    "BE_data = get_data('BE_RawData_VPython.xlsx')\n",
    "FR_data = get_data('FR_RawData_VPython.xlsx')\n",
    "EU_data = get_data('EU_RawData_VPython.xlsx')"
   ]
  },
  {
   "cell_type": "code",
   "execution_count": null,
   "metadata": {},
   "outputs": [],
   "source": [
    "print(\"BE_data, sheet names = \\n {}\\n\".format(BE_data.sheet_names))\n",
    "print(\"FR_data, sheet names = \\n {}\\n\".format(FR_data.sheet_names))\n",
    "print(\"EU_data, sheet names = \\n {}\\n\".format(EU_data.sheet_names))"
   ]
  },
  {
   "cell_type": "markdown",
   "metadata": {},
   "source": [
    "# 2. Postprocessing of the French and Belgian datasets"
   ]
  },
  {
   "cell_type": "markdown",
   "metadata": {},
   "source": [
    "## a. Production of flat glass"
   ]
  },
  {
   "cell_type": "code",
   "execution_count": null,
   "metadata": {},
   "outputs": [],
   "source": [
    "#Creating a DataFrame only with production data\n",
    "FR_Prod = FR_data.parse('prod').set_index('year')\n",
    "BE_Prod = BE_data.parse('prod').set_index('year')\n",
    "\n",
    "#Creating a new DataFrame for Belgian and French flat glass production\n",
    "BE_FR_FlatGlassProd = pd.concat([FR_Prod['flat glass, kt'], \n",
    "                                 BE_Prod['flat glass, kt']],\n",
    "                                axis=1,\n",
    "                                keys=['FR [kt]', 'BE [kt]'])\n",
    "\n",
    "BE_FR_FlatGlassProd"
   ]
  },
  {
   "cell_type": "code",
   "execution_count": null,
   "metadata": {},
   "outputs": [],
   "source": [
    "#Plotting FR and BE flat glass production\n",
    "fig, ax = plt.subplots()\n",
    "\n",
    "sns.lineplot(data=BE_FR_FlatGlassProd, ax=ax, markers=True, palette=\"GnBu\")\n",
    "\n",
    "ax.set_xlim(1945,2015)\n",
    "ax.set_ylim(ymin=0)\n",
    "ax.set_ylabel('Kilotons [kt]')\n",
    "\n",
    "fig.suptitle('Flat glass production [kt/y]', fontsize = 20)\n",
    "sns.despine()\n",
    "plt.show()"
   ]
  },
  {
   "cell_type": "code",
   "execution_count": null,
   "metadata": {},
   "outputs": [],
   "source": [
    "BE_FR_FlatGlassProd_roll = (\n",
    "    BE_FR_FlatGlassProd.interpolate(method='pchip', limit_area='inside')\n",
    ")"
   ]
  },
  {
   "cell_type": "code",
   "execution_count": null,
   "metadata": {},
   "outputs": [],
   "source": [
    "# Linear interpolation for flat glass production in order to \"roll\"\n",
    "BE_FR_FlatGlassProd_roll = BE_FR_FlatGlassProd.interpolate(method='pchip',\n",
    "                                                           limit_area='inside')\n",
    "\n",
    "# Rolling flat glass production according to a 5-year mean\n",
    "\n",
    "BE_FR_FlatGlassProd_roll = (\n",
    "    BE_FR_FlatGlassProd_roll.rolling(window=5, center=True).mean()\n",
    ")\n",
    "\n",
    "# Plotting rolled FR and BE flat glass production\n",
    "fig, ax = plt.subplots()\n",
    "\n",
    "sns.lineplot(data=BE_FR_FlatGlassProd_roll, ax=ax, palette=\"GnBu\")\n",
    "\n",
    "ax.set_xlim(1945, 2015)\n",
    "ax.set_ylim(ymin=0)\n",
    "\n",
    "fig.suptitle('Flat glass production (rolled) [kt/y]', fontsize=20)\n",
    "sns.despine()\n",
    "plt.show()"
   ]
  },
  {
   "cell_type": "markdown",
   "metadata": {},
   "source": [
    "## b. Consumption of flat glass"
   ]
  },
  {
   "cell_type": "code",
   "execution_count": null,
   "metadata": {},
   "outputs": [],
   "source": [
    "#Creating a DataFrame with import and export data\n",
    "FR_Imp = FR_data.parse('import').set_index('year')\n",
    "FR_Exp = FR_data.parse('export').set_index('year')\n",
    "\n",
    "BE_Imp = BE_data.parse('import').set_index('year')\n",
    "BE_Exp = BE_data.parse('export').set_index('year')"
   ]
  },
  {
   "cell_type": "code",
   "execution_count": null,
   "metadata": {},
   "outputs": [],
   "source": [
    "BE_FR_Imp = pd.concat([FR_Imp['flat glass, kt'], BE_Imp['flat glass, kt']],\n",
    "                      axis=1, keys=['FR [kt]', 'BE [kt]'])\n",
    "\n",
    "BE_FR_Exp = pd.concat([BE_FR_Exp['flat glass, kt'], BE_FR_Exp['flat glass, kt']],\n",
    "                      axis=1, keys=['FR [kt]', 'BE [kt]'])"
   ]
  },
  {
   "cell_type": "code",
   "execution_count": null,
   "metadata": {},
   "outputs": [],
   "source": [
    "#Estimating the ratio importation/production and exportation/production\n",
    "BE_FR_UseRatio = BE_FR_Exp.reset_index()[['year']].set_index('year')\n",
    "\n",
    "BE_FR_UseRatio['FR, import ratio'] \\\n",
    "    = BE_FR_Imp['FR [kt]'] / BE_FR_FlatGlassProd['FR [kt]']\n",
    "BE_FR_UseRatio['FR, export ratio'] \\\n",
    "    = BE_FR_Exp['FR [kt]'] / BE_FR_FlatGlassProd['FR [kt]']\n",
    "\n",
    "BE_FR_UseRatio['BE, import ratio'] \\\n",
    "    = BE_FR_Imp['BE [kt]'] / BE_FR_FlatGlassProd['BE [kt]']\n",
    "BE_FR_UseRatio['BE, export ratio'] \\\n",
    "    = BE_FR_Exp['BE [kt]'] / BE_FR_FlatGlassProd['BE [kt]']\n",
    "\n",
    "BE_FR_UseRatio[-20:]\n",
    "\n",
    "#Akima interpolation for missing data\n",
    "BE_FR_UseRatio = BE_FR_UseRatio.interpolate(method='akima')\n",
    "\n",
    "#Linear interpolation for the first years\n",
    "BE_FR_UseRatio = BE_FR_UseRatio.interpolate(limit_direction='backward')\n",
    "\n",
    "BE_FR_UseRatio[20:30]"
   ]
  },
  {
   "cell_type": "markdown",
   "metadata": {},
   "source": [
    "### <span style='color: red;'>Proposition pour avoir **une** dataframe pratique et indexable</span>"
   ]
  },
  {
   "cell_type": "code",
   "execution_count": null,
   "metadata": {},
   "outputs": [],
   "source": [
    "BE_FR = pd.concat([FR_Prod['flat glass, kt'], BE_Prod['flat glass, kt'],\n",
    "                   FR_Imp['flat glass, kt'], BE_Imp['flat glass, kt'],\n",
    "                   FR_Exp['flat glass, kt'], BE_Exp['flat glass, kt']],\n",
    "                 axis=1, keys=[('Production [kt]', 'France'), ('Production [kt]', 'Belgium'),\n",
    "                               ('Import [kt]', 'France'), ('Import [kt]', 'Belgium'),\n",
    "                               ('Export [kt]', 'France'), ('Export [kt]', 'Belgium')],\n",
    "                 names=['Info', 'Country']).stack()\n",
    "\n",
    "BE_FR['Import Ratio'] = BE_FR['Import [kt]'] / BE_FR['Production [kt]']\n",
    "BE_FR['Export Ratio'] = BE_FR['Export [kt]'] / BE_FR['Production [kt]']\n",
    "BE_FR = BE_FR.unstack()"
   ]
  },
  {
   "cell_type": "code",
   "execution_count": null,
   "metadata": {},
   "outputs": [],
   "source": [
    "# Interpolation for missing data\n",
    "cols = [x for x in BE_FR.columns if x[0] in ['Import Ratio', 'Export Ratio']]\n",
    "\n",
    "BR_FR[cols] = (\n",
    "    BR_FR[cols]\n",
    "        # Akima first\n",
    "        .interpolate(method='akima')\n",
    "        # Linear interpolation for the first years\n",
    "        .interpolate(limit_direction='backward')\n",
    ")"
   ]
  },
  {
   "cell_type": "code",
   "execution_count": null,
   "metadata": {},
   "outputs": [],
   "source": [
    "BR_FR[cols].loc[1965:1974]"
   ]
  },
  {
   "cell_type": "markdown",
   "metadata": {},
   "source": [
    "<p style='color: red; font-size: 18px; font-weight:bold;'>End of Proposition pour avoir **une** dataframe pratique et indexable</span>"
   ]
  },
  {
   "cell_type": "code",
   "execution_count": null,
   "metadata": {},
   "outputs": [],
   "source": [
    "fig, ax = plt.subplots()\n",
    "\n",
    "sns.lineplot(data=BE_FR_UseRatio, ax=ax, palette=\"GnBu\")\n",
    "\n",
    "ax.set_xlim(1945,2015)\n",
    "ax.set_ylim(ymin=0)\n",
    "sns.despine()\n",
    "plt.show()"
   ]
  },
  {
   "cell_type": "code",
   "execution_count": null,
   "metadata": {},
   "outputs": [],
   "source": [
    "BE_FR_Use = BE_FR_Exp.reset_index()[['year']].set_index('year')\n",
    "\n",
    "BE_FR_Use['BE, flat glass consumption, [kt]'] = (\n",
    "      BE_FR_FlatGlassProd['BE [kt]']\n",
    "    + BE_FR_UseRatio['BE, import ratio']\n",
    "    - BE_FR_UseRatio['BE, export ratio']\n",
    ")\n",
    "\n",
    "BE_FR_Use['FR, flat glass consumption, [kt]'] = (\n",
    "      BE_FR_FlatGlassProd['FR [kt]']\n",
    "    + BE_FR_UseRatio['FR, import ratio']\n",
    "    - BE_FR_UseRatio['FR, export ratio']\n",
    ")\n",
    "\n",
    "\n",
    "BE_FR_Use[20:30]"
   ]
  },
  {
   "cell_type": "code",
   "execution_count": null,
   "metadata": {},
   "outputs": [],
   "source": [
    "ToPlot = BE_FR_Use.reset_index()\n",
    "\n",
    "fig, ax = plt.subplots()\n",
    "\n",
    "sns.lineplot(data=ToPlot, x='year', y='FR, flat glass consumption, [kt]',\n",
    "             ax=ax, palette=\"Reds\")\n",
    "\n",
    "ax.set_xlim(1945,2015)\n",
    "ax.set_ylim(ymin=0)\n",
    "sns.despine()\n",
    "plt.show()"
   ]
  },
  {
   "cell_type": "code",
   "execution_count": null,
   "metadata": {},
   "outputs": [],
   "source": [
    "sns.lineplot(data=ToPlot, x='year', \n",
    "             y='BE, flat glass consumption, [kt]',\n",
    "             palette=\"Blues\")\n",
    "sns.despine()\n",
    "plt.show()"
   ]
  },
  {
   "cell_type": "code",
   "execution_count": null,
   "metadata": {},
   "outputs": [],
   "source": [
    "#Linear interpolation for flat glass consumption\n",
    "BE_FR_Use_roll = BE_FR_Use.interpolate(method=\"linear\", \n",
    "                                       limit_area = 'inside')\n",
    "\n",
    "#Rolling flat glass production according to a 5-year mean\n",
    "win_len = 5\n",
    "BE_FR_Use_roll = BE_FR_Use_roll.rolling(win_len, \n",
    "                                   center = True).mean()\n",
    "\n",
    "#Plotting rolled data\n",
    "#sns.lineplot(data=BE_FR_Use_roll, palette=\"Blues\")\n",
    "\n",
    "fig, axes = plt.subplots(nrows=1, ncols=2, figsize=(16, 8), sharex=True, sharey=True)\n",
    "\n",
    "for i, (ax, col) in enumerate(zip(axes.flatten(), BE_FR_Use_roll.columns)):\n",
    "\n",
    "    ax.plot(BE_FR_Use_roll.index, BE_FR_Use_roll[col])\n",
    "    ax.set_title(col)\n",
    "    ax.set_xlim(1945,2015)\n",
    "    ax.set_ylim(0,1200)\n",
    "    \n",
    "sns.despine()\n",
    "plt.show()"
   ]
  },
  {
   "cell_type": "markdown",
   "metadata": {},
   "source": [
    "## c. Production of architectural flat glass"
   ]
  },
  {
   "cell_type": "code",
   "execution_count": null,
   "metadata": {},
   "outputs": [],
   "source": [
    "#Share of building glass in the French production of flat glass\n",
    "BldgShare = FR_Prod[['bldg glass/flat glass, %']]\n",
    "\n",
    "ShareFR = BldgShare[['bldg glass/flat glass, %']].dropna()\n",
    "print(ShareFR.isnull().sum())\n",
    "ShareFR"
   ]
  },
  {
   "cell_type": "code",
   "execution_count": null,
   "metadata": {},
   "outputs": [],
   "source": [
    "#Estimating parameters a and b of the regression lines\n",
    "\n",
    "ShareFR['Trend1'] = ShareFR['bldg glass/flat glass, %'][:4]\n",
    "ShareFR['Trend2'] = ShareFR['bldg glass/flat glass, %'][-5:]\n",
    "\n",
    "ShareFR = ShareFR.reset_index()\n",
    "\n",
    "x1 = list(ShareFR['year'][:4])\n",
    "y1 = list(ShareFR['Trend1'][:4])\n",
    "a1, b1 = np.polyfit(x1, y1, 1)\n",
    "\n",
    "x2 = list(ShareFR['year'][-5:])\n",
    "y2 = list(ShareFR['Trend2'][-5:])\n",
    "a2, b2 = np.polyfit(x2, y2, 1)\n",
    "\n",
    "#Point of intersection of the two regression lines\n",
    "xi = (b1-b2) / (a2-a1)\n",
    "print('Approximate year of rate change:', round(xi,0))"
   ]
  },
  {
   "cell_type": "code",
   "execution_count": null,
   "metadata": {},
   "outputs": [],
   "source": [
    "fig, ax = plt.subplots()\n",
    "\n",
    "sns.scatterplot(data = BldgShare, s=75, palette='Greys', ax=ax)\n",
    "\n",
    "A = np.linspace(1945,xi)\n",
    "ax.plot(A, a1 * A + b1, color='firebrick')\n",
    "B = np.linspace(xi,2020)\n",
    "ax.plot(B, a2 * B + b2, color='firebrick')\n",
    "\n",
    "ax.set_ylim(0,1)\n",
    "ax.set_xlim(1945,2015)\n",
    "fig.suptitle('Share of building glass in the French flat glass production, %', \n",
    "             fontsize = 20)\n",
    "sns.despine()\n",
    "plt.show()"
   ]
  },
  {
   "cell_type": "code",
   "execution_count": null,
   "metadata": {},
   "outputs": [],
   "source": [
    "#Update dataset according to regression lines\n",
    "BldgShare = BldgShare.reset_index()\n",
    "\n",
    "BldgShare.loc[(BldgShare['year'] < xi), 'bldg glass/flat glass, %'] \\\n",
    "    = round(a1 * BldgShare['year'] + b1, 2)\n",
    "\n",
    "BldgShare.loc[(BldgShare['year'] >= xi), 'bldg glass/flat glass, %'] \\\n",
    "    = round(a2 * BldgShare['year'] + b2, 2)\n",
    "\n",
    "BldgShare = BldgShare.set_index('year')\n",
    "BldgShare"
   ]
  },
  {
   "cell_type": "code",
   "execution_count": null,
   "metadata": {},
   "outputs": [],
   "source": [
    "#Estimate architectural flat glass production in France and Belgium\n",
    "BE_FR_BldgGlassProd = BldgShare.reset_index()[['year']].set_index('year')\n",
    "\n",
    "BE_FR_BldgGlassProd['FR [kt]'] \\\n",
    "    = (BE_FR_FlatGlassProd['FR [kt]']\n",
    "       * BldgShare['bldg glass/flat glass, %'])\n",
    "\n",
    "BE_FR_BldgGlassProd['BE [kt]'] \\\n",
    "    = (BE_FR_FlatGlassProd['BE [kt]']\n",
    "       * BldgShare['bldg glass/flat glass, %'])\n",
    "\n",
    "BE_FR_BldgGlassProd.head()"
   ]
  },
  {
   "cell_type": "code",
   "execution_count": null,
   "metadata": {
    "scrolled": false
   },
   "outputs": [],
   "source": [
    "#Plotting FR and BE bldg flat glass production\n",
    "fig, ax = plt.subplots()\n",
    "\n",
    "sns.lineplot(data=BE_FR_BldgGlassProd, markers=True, palette=\"GnBu\", ax=ax)\n",
    "\n",
    "ax.set_xlim(1945,2015)\n",
    "ax.set_ylim(ymin=0)\n",
    "\n",
    "fig.suptitle('Architectural flat glass production [kt/y]', fontsize = 20)\n",
    "sns.despine()\n",
    "plt.show()"
   ]
  },
  {
   "cell_type": "code",
   "execution_count": null,
   "metadata": {},
   "outputs": [],
   "source": [
    "#Linear interpolation for bldg glass production in order to \"roll\"\n",
    "BE_FR_BldgGlassProd_roll \\\n",
    "    = BE_FR_BldgGlassProd.interpolate(method = 'linear',\n",
    "                                      limit_area = 'inside')\n",
    "\n",
    "#Rolling flat glass production according to a 5-year mean\n",
    "win_len = 5\n",
    "BE_FR_BldgGlassProd_roll \\\n",
    "    = BE_FR_BldgGlassProd_roll.rolling(win_len,\n",
    "                                       center = True).mean()\n",
    "\n",
    "#Plotting results, to be compared with above graph\n",
    "fig, ax = plt.subplots()\n",
    "\n",
    "sns.lineplot(data=BE_FR_BldgGlassProd_roll, palette=\"GnBu\", ax=ax)\n",
    "\n",
    "ax.set_xlim(1945,2015)\n",
    "ax.set_ylim(ymin=0)\n",
    "\n",
    "fig.suptitle('Architectural flat glass production (rolled) [kt/y]', \n",
    "             fontsize = 20)\n",
    "sns.despine()\n",
    "plt.show()"
   ]
  },
  {
   "cell_type": "markdown",
   "metadata": {},
   "source": [
    "## d. Production of insulating glass units in France"
   ]
  },
  {
   "cell_type": "code",
   "execution_count": null,
   "metadata": {},
   "outputs": [],
   "source": [
    "#Creating a new DataFrame for French IGU\n",
    "FR_IGU = FR_Prod[['IGU, \"000 m²']]\n",
    "FR_IGU = FR_IGU.rename(columns={'IGU, \"000 m²':'prod [\"000 m²]'})\n",
    "\n",
    "FR_IGU['import [\"000 m²]'] = FR_Imp['IGU, \"000 m²']\n",
    "FR_IGU['export [\"000 m²]'] = FR_Exp['IGU, \"000 m²']\n",
    "\n",
    "FR_IGU['consumption [\"000 m²]'] \\\n",
    "    = FR_IGU['prod [\"000 m²]'] + FR_IGU['import [\"000 m²]'] \\\n",
    "    - FR_IGU['export [\"000 m²]']\n",
    "\n",
    "FR_IGU[-10:]"
   ]
  },
  {
   "cell_type": "code",
   "execution_count": null,
   "metadata": {
    "scrolled": false
   },
   "outputs": [],
   "source": [
    "sns.scatterplot(data=FR_IGU, palette='colorblind')\n",
    "sns.despine()\n",
    "plt.show()"
   ]
  },
  {
   "cell_type": "code",
   "execution_count": null,
   "metadata": {},
   "outputs": [],
   "source": [
    "FR_IGU['prod interpolated [\"000 m²]'] = FR_IGU['prod [\"000 m²]'].interpolate(method = 'pchip')\n",
    "\n",
    "toplot = FR_IGU.reset_index()\n",
    "sns.scatterplot(data=toplot, x='year', y='prod interpolated [\"000 m²]')\n",
    "sns.despine()\n",
    "plt.show()"
   ]
  },
  {
   "cell_type": "code",
   "execution_count": null,
   "metadata": {},
   "outputs": [],
   "source": [
    "#Estimating consumption/production ratio over the period 1995-2000\n",
    "FR_IGU['consumption/production [-]'] \\\n",
    "    = FR_IGU['consumption [\"000 m²]'] / FR_IGU['prod [\"000 m²]']\n",
    "\n",
    "a = FR_IGU.loc[1995:2000, 'consumption/production [-]'].mean().round(2)\n",
    "print(\"Mean consumption/production ratio, 1995-2000:\", a)\n",
    "\n",
    "FR_IGU['consumption/production [-]'][1945] = 0\n",
    "FR_IGU.head()"
   ]
  },
  {
   "cell_type": "code",
   "execution_count": null,
   "metadata": {},
   "outputs": [],
   "source": [
    "#Estimating consumption since 1945\n",
    "filt_null = FR_IGU['consumption [\"000 m²]'].isnull()\n",
    "\n",
    "FR_IGU.loc[filt_null, 'consumption [\"000 m²]'] \\\n",
    "    = FR_IGU.loc[filt_null, 'prod interpolated [\"000 m²]']\n",
    "\n",
    "FR_IGU = FR_IGU.reset_index()\n",
    "\n",
    "fig, ax = plt.subplots()\n",
    "\n",
    "# lineplot is useless here. In fact you should use dataframe.plot() for both...\n",
    "sns.lineplot(data=FR_IGU, x='year', y='prod interpolated [\"000 m²]',\n",
    "             ax=ax, palette='Reds')\n",
    "\n",
    "ax.plot(FR_IGU['year'], FR_IGU['consumption [\"000 m²]'], color='firebrick')\n",
    "\n",
    "FR_IGU = FR_IGU.set_index('year')\n",
    "sns.despine()\n",
    "plt.show()"
   ]
  },
  {
   "cell_type": "code",
   "execution_count": null,
   "metadata": {},
   "outputs": [],
   "source": [
    "#Rolling IGU consumption data according to a 5-year mean\n",
    "FR_IGU_roll = FR_IGU[['consumption [\"000 m²]']].copy()\n",
    "\n",
    "win_len = 5\n",
    "FR_IGU_roll = FR_IGU_roll.rolling(win_len, center = True).mean()\n",
    "\n",
    "#Plotting results, to be compared with above graph\n",
    "fig, ax = plt.subplots()\n",
    "\n",
    "sns.lineplot(data = FR_IGU_roll, palette=\"GnBu\")\n",
    "\n",
    "ax.set_xlim(1945,2020)\n",
    "ax.set_ylim(ymin=0)\n",
    "\n",
    "fig.suptitle('IGU (rolled) [kt/y]', \n",
    "             fontsize = 20)"
   ]
  },
  {
   "cell_type": "markdown",
   "metadata": {},
   "source": [
    "# 2. CO2 emissions of the French and Belgian flat glass industry since 1945"
   ]
  },
  {
   "cell_type": "markdown",
   "metadata": {},
   "source": [
    "# a. Evolution of the carbon intensity"
   ]
  },
  {
   "cell_type": "code",
   "execution_count": null,
   "metadata": {},
   "outputs": [],
   "source": [
    "#Creating a DataFrame only with CO2 emission data\n",
    "Emissions = FR_data.parse('emissions').set_index('year')\n",
    "\n",
    "CO2_Intensity = Emissions[['CO2 glass ind, kg/t']].copy()\n",
    "CO2_Intensity.rename(columns={'CO2 glass ind, kg/t':'CO2 [kg/t]'}, \n",
    "           inplace=True)\n",
    "\n",
    "CO2_Intensity.dropna()"
   ]
  },
  {
   "cell_type": "code",
   "execution_count": null,
   "metadata": {},
   "outputs": [],
   "source": [
    "CO2_Intensity['CO2 interpolated [kg/t]'] \\\n",
    "    = CO2_Intensity['CO2 [kg/t]'].interpolate('pchip')\n",
    "\n",
    "fig, ax = plt.subplots()\n",
    "sns.lineplot(data=CO2_Intensity, palette=\"GnBu\")\n",
    "\n",
    "ax.scatter(x = CO2_Intensity.index, y = CO2_Intensity['CO2 [kg/t]'])\n",
    "\n",
    "ax.set_xlim(1945,2020)\n",
    "ax.set_ylim(ymin=0)\n",
    "sns.despine()\n",
    "plt.show()"
   ]
  },
  {
   "cell_type": "markdown",
   "metadata": {},
   "source": [
    "## b. Absolute CO2 emissions since 1945"
   ]
  },
  {
   "cell_type": "code",
   "execution_count": null,
   "metadata": {
    "scrolled": true
   },
   "outputs": [],
   "source": [
    "CO2_ABS = CO2_Intensity.reset_index()[['year']].set_index('year')\n",
    "\n",
    "CO2_ABS['FR flat glass [kt]'] \\\n",
    "    = BE_FR_FlatGlassProd['FR [kt]'] \\\n",
    "    * CO2_Intensity['CO2 interpolated [kg/t]'] / 1000\n",
    "CO2_ABS['BE flat glass [kt]'] \\\n",
    "    = BE_FR_FlatGlassProd['BE [kt]'] \\\n",
    "    * CO2_Intensity['CO2 interpolated [kg/t]'] / 1000\n",
    "\n",
    "CO2_ABS['FR bldg glass [kt]'] \\\n",
    "    = BE_FR_BldgGlassProd['FR [kt]'] \\\n",
    "    * CO2_Intensity['CO2 interpolated [kg/t]'] / 1000\n",
    "CO2_ABS['BE bldg glass [kt]'] \\\n",
    "    = BE_FR_BldgGlassProd['BE [kt]'] \\\n",
    "    * CO2_Intensity['CO2 interpolated [kg/t]'] / 1000\n",
    "\n",
    "CO2_ABS"
   ]
  },
  {
   "cell_type": "code",
   "execution_count": null,
   "metadata": {},
   "outputs": [],
   "source": [
    "CO2_ABS['BE bldg glass [kt]'].dropna()"
   ]
  },
  {
   "cell_type": "code",
   "execution_count": null,
   "metadata": {
    "scrolled": false
   },
   "outputs": [],
   "source": [
    "fig, axes = plt.subplots(nrows=2, ncols=2, figsize=(16, 16))\n",
    "\n",
    "for i, (ax, col) in enumerate(zip(axes.flatten(), CO2_ABS.columns)):\n",
    "\n",
    "    ax.plot(CO2_ABS.index, CO2_ABS[col], marker=\".\")\n",
    "    ax.set_title(col)\n",
    "    ax.set_xlim(1945,2015)\n",
    "    ax.set_ylim(0,1400)\n",
    "    \n",
    "    # Annotate the outlier\n",
    "    if 'BE' in col:\n",
    "        x = 1950\n",
    "        y = CO2_ABS.loc[1950, col]\n",
    "        ax.scatter(x=x, y=y, c='r', marker='o', s=30)\n",
    "        ax.annotate(\"Outlier\", xy=(x,y), xycoords='data', color='r',\n",
    "                    xytext=(20,40), textcoords='offset points',\n",
    "                    arrowprops=dict(arrowstyle='simple', facecolor='r'))\n",
    "    \n",
    "sns.despine()\n",
    "plt.show()"
   ]
  },
  {
   "cell_type": "code",
   "execution_count": null,
   "metadata": {},
   "outputs": [],
   "source": [
    "#Linear interpolation for CO2 absolute emissions in order to \"roll\"\n",
    "CO2_ABS_roll = CO2_ABS\n",
    "CO2_ABS_roll = CO2_ABS_roll.interpolate(method='linear', \n",
    "                                        limit_area = 'inside')\n",
    "\n",
    "#Rolling CO2 emissions according to a 5-year mean\n",
    "win_len = 5\n",
    "CO2_ABS_roll = CO2_ABS_roll.rolling(win_len,\n",
    "                                    center = True).mean()\n",
    "\n",
    "fig, axes = plt.subplots(nrows=2, ncols=2, figsize=(16, 16), sharex=True, sharey=True)\n",
    "\n",
    "for i, (ax, col) in enumerate(zip(axes.flatten(), CO2_ABS_roll.columns)):\n",
    "\n",
    "    ax.plot(CO2_ABS_roll.index, CO2_ABS_roll[col])\n",
    "    ax.set_title(col)\n",
    "    ax.set_xlim(1945,2015)\n",
    "    ax.set_ylim(0,1400)\n",
    "    \n",
    "sns.despine()\n",
    "plt.show()"
   ]
  },
  {
   "cell_type": "code",
   "execution_count": null,
   "metadata": {},
   "outputs": [],
   "source": [
    "#Base 100 = 1990\n",
    "FlatGlassProd_diff \\\n",
    "    = 100 * BE_FR_FlatGlassProd_roll / BE_FR_FlatGlassProd_roll.loc[1980]\n",
    "\n",
    "CO2Intensity_diff = 100 * CO2_Intensity / CO2_Intensity.loc[1980]\n",
    "\n",
    "CO2ABS_diff = 100 * CO2_ABS_roll / CO2_ABS_roll.loc[1980]\n",
    "\n",
    "#Plotting production, carbon intensity, CO2 absolute emissions for France\n",
    "fig, ax = plt.subplots()\n",
    "sns.lineplot(data = FlatGlassProd_diff, \n",
    "             x = FlatGlassProd_diff.index, \n",
    "             y = 'FR [kt]',\n",
    "             palette = \"GnBu\",\n",
    "             ax=ax)\n",
    "\n",
    "ax.plot(CO2Intensity_diff.index, \n",
    "        CO2Intensity_diff['CO2 interpolated [kg/t]'])\n",
    "ax.plot(CO2ABS_diff.index, \n",
    "        CO2ABS_diff['FR flat glass [kt]'])\n",
    "\n",
    "ax.plot([1980, 2015], [100, 100], '--')\n",
    "\n",
    "ax.set_xlim(1980,2015)\n",
    "ax.set_ylim(ymin=0)\n",
    "sns.despine()\n",
    "plt.show()"
   ]
  },
  {
   "cell_type": "code",
   "execution_count": null,
   "metadata": {},
   "outputs": [],
   "source": [
    "#Base 100 = 1990\n",
    "FlatGlassProd_diff_noroll \\\n",
    "    = 100 * BE_FR_FlatGlassProd / BE_FR_FlatGlassProd.loc[1980]\n",
    "\n",
    "CO2Intensity_diff_noroll = 100 * CO2_Intensity / CO2_Intensity.loc[1980]\n",
    "\n",
    "CO2ABS_diff_noroll = 100 * CO2_ABS / CO2_ABS.loc[1980]\n",
    "\n",
    "#Plotting production, carbon intensity, CO2 absolute emissions for France\n",
    "fig, ax = plt.subplots()\n",
    "sns.lineplot(data = FlatGlassProd_diff_noroll, \n",
    "             x = FlatGlassProd_diff_noroll.index, \n",
    "             y = 'FR [kt]',\n",
    "             palette = \"GnBu\")\n",
    "\n",
    "ax.plot(CO2Intensity_diff_noroll.index, \n",
    "        CO2Intensity_diff_noroll['CO2 interpolated [kg/t]'])\n",
    "ax.plot(CO2ABS_diff_noroll.index, \n",
    "        CO2ABS_diff_noroll['FR flat glass [kt]'])\n",
    "\n",
    "ax.plot([1980, 2015], [100, 100], '--')\n",
    "\n",
    "ax.set_xlim(1980,2015)\n",
    "ax.set_ylim(ymin=0)\n",
    "\n",
    "sns.despine()\n",
    "plt.show()"
   ]
  },
  {
   "cell_type": "markdown",
   "metadata": {},
   "source": [
    "## c. CO2 emissions relating to IGU consumption in FR"
   ]
  },
  {
   "cell_type": "code",
   "execution_count": null,
   "metadata": {},
   "outputs": [],
   "source": [
    "#Hypothesis: The average thickness of an IGU is twice 4mm, \n",
    "#i.e., 8mm of glass, which equals 20kg per m²\n",
    "FR_IGU['consumption [kt]'] = FR_IGU['consumption [\"000 m²]'] * 20 / 1000\n",
    "\n",
    "#Absolute CO2 emissions in France\n",
    "CO2_IGU = FR_IGU['consumption [kt]'] \\\n",
    "    * CO2_Intensity['CO2 interpolated [kg/t]'] / 1000\n",
    "\n",
    "CO2_IGU = pd.DataFrame(CO2_IGU, columns = ['IGU CO2 [kt]'])\n",
    "\n",
    "#Plotting\n",
    "sns.lineplot(data = CO2_IGU)\n",
    "\n",
    "sns.despine()\n",
    "plt.show()"
   ]
  },
  {
   "cell_type": "code",
   "execution_count": null,
   "metadata": {},
   "outputs": [],
   "source": [
    "#Rolling CO2 emissions of IGU according to a 5-year mean\n",
    "win_len = 5\n",
    "CO2_IGU_roll = CO2_IGU.rolling(win_len, center = True).mean()\n",
    "\n",
    "#Plotting\n",
    "fig, ax = plt.subplots()\n",
    "\n",
    "sns.lineplot(data = CO2_IGU_roll)\n",
    "\n",
    "ax.set_xlim(1945,2020)\n",
    "ax.set_ylim(ymin=0)\n",
    "sns.despine()\n",
    "plt.show()"
   ]
  },
  {
   "cell_type": "code",
   "execution_count": null,
   "metadata": {},
   "outputs": [],
   "source": [
    "#Base 100 = 1990\n",
    "CO2_IGU_diff_roll = 100 * CO2_IGU_roll / CO2_IGU_roll.loc[1980]\n",
    "FR_IGU_diff_roll = 100 * FR_IGU_roll / FR_IGU_roll.loc[1980]\n",
    "\n",
    "#Plotting consumption, carbon intensity, CO2 absolute emissions for France\n",
    "fig, ax = plt.subplots()\n",
    "\n",
    "sns.lineplot(data = FR_IGU_diff_roll, \n",
    "             x = FR_IGU_diff_roll.index, \n",
    "             y = 'consumption [\"000 m²]',\n",
    "             palette = \"GnBu\")\n",
    "\n",
    "ax.plot(CO2Intensity_diff_noroll.index, \n",
    "        CO2Intensity_diff_noroll['CO2 interpolated [kg/t]'])\n",
    "ax.plot(CO2_IGU_diff_roll.index, \n",
    "        CO2_IGU_diff_roll['IGU CO2 [kt]'])\n",
    "\n",
    "ax.plot([1980, 2020], [100, 100], '--')\n",
    "\n",
    "ax.set_xlim(1980,2020)\n",
    "ax.set_ylim(ymin=0)\n",
    "sns.despine()\n",
    "plt.show()"
   ]
  },
  {
   "cell_type": "markdown",
   "metadata": {},
   "source": [
    "# 3. Postprocessing of the European dataset"
   ]
  },
  {
   "cell_type": "markdown",
   "metadata": {},
   "source": [
    "## a. Production of flat glass"
   ]
  },
  {
   "cell_type": "code",
   "execution_count": null,
   "metadata": {},
   "outputs": [],
   "source": [
    "EU_Prod = EU_data.parse('prod').set_index(['Nbr of countries', 'year'])\n",
    "EU_Prod"
   ]
  },
  {
   "cell_type": "code",
   "execution_count": null,
   "metadata": {
    "scrolled": false
   },
   "outputs": [],
   "source": [
    "#Plot the European production of flat glass\n",
    "\n",
    "EUplot = EU_Prod.reset_index()\n",
    "\n",
    "fig, ax = plt.subplots()\n",
    "\n",
    "sns.lineplot(data = EUplot, x = 'year', y = 'flat glass, kt', \n",
    "             hue = 'Nbr of countries', \n",
    "             palette = 'colorblind',\n",
    "             ax = ax)\n",
    "\n",
    "ax.set_xlim(1945,2020)\n",
    "ax.set_ylim(ymin=0)\n",
    "fig.suptitle('European production of flat glass [kt/y]', fontsize = 20)\n",
    "sns.despine()\n",
    "plt.show()"
   ]
  },
  {
   "cell_type": "code",
   "execution_count": null,
   "metadata": {},
   "outputs": [],
   "source": [
    "#Adding import and export in order to estimate consumption in EU\n",
    "EU_Imp = EU_data.parse('import').set_index(['Nbr of countries', 'year'])\n",
    "EU_Exp = EU_data.parse('export').set_index(['Nbr of countries', 'year'])\n",
    "\n",
    "#Estimating consumption in EU\n",
    "EU_Consumption = EU_Prod.reset_index()[['Nbr of countries', \n",
    "                                        'year']].set_index(['Nbr of countries', \n",
    "                                                            'year'])\n",
    "EU_Consumption['flat glass, kt'] = EU_Prod['flat glass, kt'] \\\n",
    "    + EU_Imp['flat glass, kt'] - EU_Exp['flat glass, kt']\n",
    "\n",
    "#Plot the European consumption of flat glass\n",
    "\n",
    "EUplot = EU_Consumption.reset_index()\n",
    "\n",
    "fig, ax = plt.subplots()\n",
    "\n",
    "sns.lineplot(data = EUplot, x = 'year', y = 'flat glass, kt', \n",
    "             hue = 'Nbr of countries', \n",
    "             palette = 'colorblind',\n",
    "             ax = ax)\n",
    "\n",
    "ax.set_xlim(1945,2020)\n",
    "ax.set_ylim(ymin=0)\n",
    "fig.suptitle('European consumption of flat glass [kt/y]', fontsize = 20)\n",
    "sns.despine()\n",
    "plt.show()"
   ]
  },
  {
   "cell_type": "markdown",
   "metadata": {},
   "source": [
    "## c. Production of architectural flat glass"
   ]
  },
  {
   "cell_type": "code",
   "execution_count": null,
   "metadata": {
    "scrolled": true
   },
   "outputs": [],
   "source": [
    "#Share of building glazing in the European production of flat glass\n",
    "EUBldgShare = EU_Prod[['bldg glass/flat glass, %']]\n",
    "\n",
    "ShareEU = EUBldgShare.dropna()\n",
    "ShareEU"
   ]
  },
  {
   "cell_type": "code",
   "execution_count": null,
   "metadata": {},
   "outputs": [],
   "source": [
    "toplot = EUBldgShare.reset_index()\n",
    "\n",
    "fig, ax = plt.subplots()\n",
    "\n",
    "sns.lineplot(data=toplot, x='year', y='bldg glass/flat glass, %', \n",
    "             markers=\"o\", ax=ax)\n",
    "\n",
    "ax.lines[0].set_linestyle(\"--\")\n",
    "ax.set_xlim(1945,2020)\n",
    "ax.set_ylim(0,1)"
   ]
  },
  {
   "cell_type": "code",
   "execution_count": null,
   "metadata": {},
   "outputs": [],
   "source": [
    "EUBldgShare"
   ]
  },
  {
   "cell_type": "code",
   "execution_count": null,
   "metadata": {},
   "outputs": [],
   "source": [
    "#Estimating parameters a, b and c; 2-degree polynomial\n",
    "values = np.polyfit(x=ShareEU.index.get_level_values(0), \n",
    "                  y=ShareEU['bldg glass/flat glass, %'], \n",
    "                  deg=2, full=True) \n",
    "\n",
    "values"
   ]
  },
  {
   "cell_type": "code",
   "execution_count": null,
   "metadata": {},
   "outputs": [],
   "source": [
    "#Interpolation according to values calculated above\n",
    "EUBldgShare.loc[1970:2020, 'bldg glass/flat glass (interpolated) [%]'] \\\n",
    "    = values[0][0] * EUBldgShare.index(0) ** 2\\\n",
    "    * values[0][1] * EUBldgShare.index(0) \\\n",
    "    * values[0][2] * EUBldgShare.index(0)\n",
    "\n",
    "EUBldgShare[-50:]"
   ]
  },
  {
   "cell_type": "code",
   "execution_count": null,
   "metadata": {},
   "outputs": [],
   "source": [
    "fig, ax = plt.subplots()\n",
    "\n",
    "sns.scatterplot(data=EUBldgShare,\n",
    "                x='year', \n",
    "                y='bldg glass/flat glass (interpolated) [%]',\n",
    "                ax=ax)\n",
    "\n",
    "ax.lines[0].set_linestyle(\"--\")\n",
    "ax.set_xlim(1945,2020)\n",
    "ax.set_ylim(0,1)"
   ]
  }
 ],
 "metadata": {
  "colab": {
   "name": "RetrospectiveMFA_Glass Industry.ipynb",
   "provenance": []
  },
  "kernelspec": {
   "display_name": "Python 3",
   "language": "python",
   "name": "python3"
  },
  "language_info": {
   "codemirror_mode": {
    "name": "ipython",
    "version": 3
   },
   "file_extension": ".py",
   "mimetype": "text/x-python",
   "name": "python",
   "nbconvert_exporter": "python",
   "pygments_lexer": "ipython3",
   "version": "3.8.3"
  },
  "toc": {
   "base_numbering": 1,
   "nav_menu": {},
   "number_sections": true,
   "sideBar": true,
   "skip_h1_title": false,
   "title_cell": "Table of Contents",
   "title_sidebar": "Contents",
   "toc_cell": false,
   "toc_position": {},
   "toc_section_display": true,
   "toc_window_display": false
  }
 },
 "nbformat": 4,
 "nbformat_minor": 1
}
